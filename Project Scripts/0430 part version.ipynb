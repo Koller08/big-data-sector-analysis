{
 "cells": [
  {
   "cell_type": "markdown",
   "id": "c38db6a3",
   "metadata": {},
   "source": [
    "# Read in Data"
   ]
  },
  {
   "cell_type": "code",
   "execution_count": 1,
   "id": "1efcb32a",
   "metadata": {
    "scrolled": true
   },
   "outputs": [
    {
     "name": "stdout",
     "output_type": "stream",
     "text": [
      "Starting Spark application\n"
     ]
    },
    {
     "data": {
      "text/html": [
       "<table>\n",
       "<tr><th>ID</th><th>YARN Application ID</th><th>Kind</th><th>State</th><th>Spark UI</th><th>Driver log</th><th>User</th><th>Current session?</th></tr><tr><td>1</td><td>application_1619746266595_0002</td><td>pyspark</td><td>idle</td><td><a target=\"_blank\" href=\"http://ip-172-31-18-174.ec2.internal:20888/proxy/application_1619746266595_0002/\">Link</a></td><td><a target=\"_blank\" href=\"http://ip-172-31-25-199.ec2.internal:8042/node/containerlogs/container_1619746266595_0002_01_000001/livy\">Link</a></td><td>None</td><td>✔</td></tr></table>"
      ],
      "text/plain": [
       "<IPython.core.display.HTML object>"
      ]
     },
     "metadata": {},
     "output_type": "display_data"
    },
    {
     "data": {
      "application/vnd.jupyter.widget-view+json": {
       "model_id": "",
       "version_major": 2,
       "version_minor": 0
      },
      "text/plain": [
       "FloatProgress(value=0.0, bar_style='info', description='Progress:', layout=Layout(height='25px', width='50%'),…"
      ]
     },
     "metadata": {},
     "output_type": "display_data"
    },
    {
     "name": "stdout",
     "output_type": "stream",
     "text": [
      "SparkSession available as 'spark'.\n"
     ]
    },
    {
     "data": {
      "application/vnd.jupyter.widget-view+json": {
       "model_id": "",
       "version_major": 2,
       "version_minor": 0
      },
      "text/plain": [
       "FloatProgress(value=0.0, bar_style='info', description='Progress:', layout=Layout(height='25px', width='50%'),…"
      ]
     },
     "metadata": {},
     "output_type": "display_data"
    },
    {
     "name": "stdout",
     "output_type": "stream",
     "text": [
      "<pyspark.sql.session.SparkSession object at 0x7fdf1955e510>"
     ]
    }
   ],
   "source": [
    "# start spark\n",
    "spark"
   ]
  },
  {
   "cell_type": "code",
   "execution_count": 2,
   "id": "df3268f5",
   "metadata": {
    "scrolled": true
   },
   "outputs": [
    {
     "data": {
      "application/vnd.jupyter.widget-view+json": {
       "model_id": "",
       "version_major": 2,
       "version_minor": 0
      },
      "text/plain": [
       "FloatProgress(value=0.0, bar_style='info', description='Progress:', layout=Layout(height='25px', width='50%'),…"
      ]
     },
     "metadata": {},
     "output_type": "display_data"
    },
    {
     "name": "stdout",
     "output_type": "stream",
     "text": [
      "root\n",
      " |-- BehaviouralFeatureResult: struct (nullable = true)\n",
      " |    |-- AW: double (nullable = true)\n",
      " |    |-- CS: double (nullable = true)\n",
      " |    |-- ER: double (nullable = true)\n",
      " |    |-- FR: double (nullable = true)\n",
      " |    |-- MNR: double (nullable = true)\n",
      " |    |-- NR: double (nullable = true)\n",
      " |    |-- PC: double (nullable = true)\n",
      " |    |-- PR: double (nullable = true)\n",
      " |    |-- RB: double (nullable = true)\n",
      " |    |-- RC: double (nullable = true)\n",
      " |    |-- RD: double (nullable = true)\n",
      " |    |-- RL: double (nullable = true)\n",
      " |    |-- RSP: double (nullable = true)\n",
      " |-- _id: struct (nullable = true)\n",
      " |    |-- $oid: string (nullable = true)\n",
      " |-- asin: string (nullable = true)\n",
      " |-- category: string (nullable = true)\n",
      " |-- helpful: array (nullable = true)\n",
      " |    |-- element: double (containsNull = true)\n",
      " |-- label: double (nullable = true)\n",
      " |-- overall: double (nullable = true)\n",
      " |-- reviewText: string (nullable = true)\n",
      " |-- reviewTime: string (nullable = true)\n",
      " |-- reviewerID: string (nullable = true)\n",
      " |-- reviewerName: string (nullable = true)\n",
      " |-- summary: string (nullable = true)\n",
      " |-- unixReviewTime: long (nullable = true)\n",
      "\n",
      "-RECORD 0------------------------------------------------------------------------------------------------------------------------------------------------------------------------------------------------------------------------------------------------------------------------------------------------------------------------------------------------------------------------------------------------------------------------------------------------\n",
      " BehaviouralFeatureResult | [0.0, 0.525950681, 0.0, 0.0, 0.0, 50.0, 1.27388535, 50.0, 0.0, 2.0, 0.5, 412.0, 0.0]                                                                                                                                                                                                                                                                                                                                         \n",
      " _id                      | [5a421d732bfbb88f180e24d2]                                                                                                                                                                                                                                                                                                                                                                                                   \n",
      " asin                     | B000809PCG                                                                                                                                                                                                                                                                                                                                                                                                                   \n",
      " category                 | Toys_and_Games                                                                                                                                                                                                                                                                                                                                                                                                               \n",
      " helpful                  | [1.0, 2.0]                                                                                                                                                                                                                                                                                                                                                                                                                   \n",
      " label                    | 0.0                                                                                                                                                                                                                                                                                                                                                                                                                          \n",
      " overall                  | 3.0                                                                                                                                                                                                                                                                                                                                                                                                                          \n",
      " reviewText               | it's ok, but not great fun.  maybe it just makes my tiny brain work too hard.  I did see this game via Mental Floss magazine.  I'm going to continue to expose my family and friends to it...maybe it will click with some of them and hence make it more fun for me.  full disclosure:  the only time I played it so far was with my 14 year old son, and it was just the 2 of us.  will keep playing and update my review. \n",
      " reviewTime               | 01 9, 2013                                                                                                                                                                                                                                                                                                                                                                                                                   \n",
      " reviewerID               | A3ITLRYWLKJP5B                                                                                                                                                                                                                                                                                                                                                                                                               \n",
      " reviewerName             | Barry                                                                                                                                                                                                                                                                                                                                                                                                                        \n",
      " summary                  | Not the first game I reach for...                                                                                                                                                                                                                                                                                                                                                                                            \n",
      " unixReviewTime           | 1357689600                                                                                                                                                                                                                                                                                                                                                                                                                   \n",
      "-RECORD 1------------------------------------------------------------------------------------------------------------------------------------------------------------------------------------------------------------------------------------------------------------------------------------------------------------------------------------------------------------------------------------------------------------------------------------------------\n",
      " BehaviouralFeatureResult | [0.0, 0.0, 1.0, 0.0, 0.0, 0.0, 24.64454976, 0.0, 0.0, 0.0, 2.2, 257.0, 1.0]                                                                                                                                                                                                                                                                                                                                                  \n",
      " _id                      | [5a421d732bfbb88f180e24d3]                                                                                                                                                                                                                                                                                                                                                                                                   \n",
      " asin                     | B004Y6F9KW                                                                                                                                                                                                                                                                                                                                                                                                                   \n",
      " category                 | Sports_and_Outdoors                                                                                                                                                                                                                                                                                                                                                                                                          \n",
      " helpful                  | [0.0, 0.0]                                                                                                                                                                                                                                                                                                                                                                                                                   \n",
      " label                    | 0.0                                                                                                                                                                                                                                                                                                                                                                                                                          \n",
      " overall                  | 5.0                                                                                                                                                                                                                                                                                                                                                                                                                          \n",
      " reviewText               | I love this Air-soft rifle. I love the scope it looks cool. The laser works really well. I would recommend getting it.UK ARMS P36 Spring 280-FPS Air-soft Gun Rifle with LASER AND FLASHLIGHT with EXTRA James Bond Concealable Pistol 180-FPS COMBO Air-soft Gun                                                                                                                                                            \n",
      " reviewTime               | 08 25, 2011                                                                                                                                                                                                                                                                                                                                                                                                                  \n",
      " reviewerID               | AA65S7IF7V9GU                                                                                                                                                                                                                                                                                                                                                                                                                \n",
      " reviewerName             | J Ayles                                                                                                                                                                                                                                                                                                                                                                                                                      \n",
      " summary                  | Cool                                                                                                                                                                                                                                                                                                                                                                                                                         \n",
      " unixReviewTime           | 1314230400                                                                                                                                                                                                                                                                                                                                                                                                                   \n",
      "-RECORD 2------------------------------------------------------------------------------------------------------------------------------------------------------------------------------------------------------------------------------------------------------------------------------------------------------------------------------------------------------------------------------------------------------------------------------------------------\n",
      " BehaviouralFeatureResult | [411.0, 0.639148171, 0.0, 0.142857143, 0.0, 28.57142857, 0.709219858, 57.14285714, 0.0, 7.0, 0.75, 358.0, 0.0]                                                                                                                                                                                                                                                                                                               \n",
      " _id                      | [5a421d732bfbb88f180e24d4]                                                                                                                                                                                                                                                                                                                                                                                                   \n",
      " asin                     | B0041RR5X8                                                                                                                                                                                                                                                                                                                                                                                                                   \n",
      " category                 | Home_and_Kitchen                                                                                                                                                                                                                                                                                                                                                                                                             \n",
      " helpful                  | [0.0, 0.0]                                                                                                                                                                                                                                                                                                                                                                                                                   \n",
      " label                    | 0.0                                                                                                                                                                                                                                                                                                                                                                                                                          \n",
      " overall                  | 3.0                                                                                                                                                                                                                                                                                                                                                                                                                          \n",
      " reviewText               | Bought this for my new bathroom and though it is nice, shiny chrome and looks good, it is a little flimsy. Thee side ebars are in two pieces, not one, and the top slips into the bottom, but not really tight and it comes apart easily. You can't pick it up to move it without its coming apart. I slid it in sideways between our two sinks so it works OK for me.                                                       \n",
      " reviewTime               | 07 8, 2012                                                                                                                                                                                                                                                                                                                                                                                                                   \n",
      " reviewerID               | A3EBF7VUVF09GW                                                                                                                                                                                                                                                                                                                                                                                                               \n",
      " reviewerName             | Helene M. Jolley \"Shopaholic\"                                                                                                                                                                                                                                                                                                                                                                                                \n",
      " summary                  | Flimsy but serviceable                                                                                                                                                                                                                                                                                                                                                                                                       \n",
      " unixReviewTime           | 1341705600                                                                                                                                                                                                                                                                                                                                                                                                                   \n",
      "only showing top 3 rows"
     ]
    }
   ],
   "source": [
    "# read in data from S3\n",
    "df = spark.read.json('s3://sagemaker-bda-project/part/part.json')\n",
    "df.printSchema()\n",
    "df.show(n=3, truncate=False, vertical=True)"
   ]
  },
  {
   "cell_type": "code",
   "execution_count": 32,
   "id": "ee870bc8",
   "metadata": {
    "scrolled": true
   },
   "outputs": [
    {
     "data": {
      "application/vnd.jupyter.widget-view+json": {
       "model_id": "",
       "version_major": 2,
       "version_minor": 0
      },
      "text/plain": [
       "FloatProgress(value=0.0, bar_style='info', description='Progress:', layout=Layout(height='25px', width='50%'),…"
      ]
     },
     "metadata": {},
     "output_type": "display_data"
    },
    {
     "name": "stdout",
     "output_type": "stream",
     "text": [
      "-RECORD 0--------------------------------------------------------------------------------------------------------------------------------------------------------------------------------------------------------------------------------------------------------------------------------------------------------------------------------------------------------------------------------------------------------------------------------------\n",
      " asin           | B000809PCG                                                                                                                                                                                                                                                                                                                                                                                                                   \n",
      " category       | Toys_and_Games                                                                                                                                                                                                                                                                                                                                                                                                               \n",
      " helpful_0      | 1.0                                                                                                                                                                                                                                                                                                                                                                                                                          \n",
      " helpful_1      | 2.0                                                                                                                                                                                                                                                                                                                                                                                                                          \n",
      " label          | 0.0                                                                                                                                                                                                                                                                                                                                                                                                                          \n",
      " overall        | 3.0                                                                                                                                                                                                                                                                                                                                                                                                                          \n",
      " prod_id        | 5a421d732bfbb88f180e24d2                                                                                                                                                                                                                                                                                                                                                                                                     \n",
      " prod_name      | prod_5a421                                                                                                                                                                                                                                                                                                                                                                                                                   \n",
      " reviewText     | it's ok, but not great fun.  maybe it just makes my tiny brain work too hard.  I did see this game via Mental Floss magazine.  I'm going to continue to expose my family and friends to it...maybe it will click with some of them and hence make it more fun for me.  full disclosure:  the only time I played it so far was with my 14 year old son, and it was just the 2 of us.  will keep playing and update my review. \n",
      " summary        | Not the first game I reach for...                                                                                                                                                                                                                                                                                                                                                                                            \n",
      " unixreviewTime | 1357689600                                                                                                                                                                                                                                                                                                                                                                                                                   \n",
      " reviewtime     | 2013-01-09 00:00:00                                                                                                                                                                                                                                                                                                                                                                                                          \n",
      "-RECORD 1--------------------------------------------------------------------------------------------------------------------------------------------------------------------------------------------------------------------------------------------------------------------------------------------------------------------------------------------------------------------------------------------------------------------------------------\n",
      " asin           | B004Y6F9KW                                                                                                                                                                                                                                                                                                                                                                                                                   \n",
      " category       | Sports_and_Outdoors                                                                                                                                                                                                                                                                                                                                                                                                          \n",
      " helpful_0      | 0.0                                                                                                                                                                                                                                                                                                                                                                                                                          \n",
      " helpful_1      | 0.0                                                                                                                                                                                                                                                                                                                                                                                                                          \n",
      " label          | 0.0                                                                                                                                                                                                                                                                                                                                                                                                                          \n",
      " overall        | 5.0                                                                                                                                                                                                                                                                                                                                                                                                                          \n",
      " prod_id        | 5a421d732bfbb88f180e24d3                                                                                                                                                                                                                                                                                                                                                                                                     \n",
      " prod_name      | prod_5a421                                                                                                                                                                                                                                                                                                                                                                                                                   \n",
      " reviewText     | I love this Air-soft rifle. I love the scope it looks cool. The laser works really well. I would recommend getting it.UK ARMS P36 Spring 280-FPS Air-soft Gun Rifle with LASER AND FLASHLIGHT with EXTRA James Bond Concealable Pistol 180-FPS COMBO Air-soft Gun                                                                                                                                                            \n",
      " summary        | Cool                                                                                                                                                                                                                                                                                                                                                                                                                         \n",
      " unixreviewTime | 1314230400                                                                                                                                                                                                                                                                                                                                                                                                                   \n",
      " reviewtime     | 2011-08-25 00:00:00                                                                                                                                                                                                                                                                                                                                                                                                          \n",
      "-RECORD 2--------------------------------------------------------------------------------------------------------------------------------------------------------------------------------------------------------------------------------------------------------------------------------------------------------------------------------------------------------------------------------------------------------------------------------------\n",
      " asin           | B0041RR5X8                                                                                                                                                                                                                                                                                                                                                                                                                   \n",
      " category       | Home_and_Kitchen                                                                                                                                                                                                                                                                                                                                                                                                             \n",
      " helpful_0      | 0.0                                                                                                                                                                                                                                                                                                                                                                                                                          \n",
      " helpful_1      | 0.0                                                                                                                                                                                                                                                                                                                                                                                                                          \n",
      " label          | 0.0                                                                                                                                                                                                                                                                                                                                                                                                                          \n",
      " overall        | 3.0                                                                                                                                                                                                                                                                                                                                                                                                                          \n",
      " prod_id        | 5a421d732bfbb88f180e24d4                                                                                                                                                                                                                                                                                                                                                                                                     \n",
      " prod_name      | prod_5a421                                                                                                                                                                                                                                                                                                                                                                                                                   \n",
      " reviewText     | Bought this for my new bathroom and though it is nice, shiny chrome and looks good, it is a little flimsy. Thee side ebars are in two pieces, not one, and the top slips into the bottom, but not really tight and it comes apart easily. You can't pick it up to move it without its coming apart. I slid it in sideways between our two sinks so it works OK for me.                                                       \n",
      " summary        | Flimsy but serviceable                                                                                                                                                                                                                                                                                                                                                                                                       \n",
      " unixreviewTime | 1341705600                                                                                                                                                                                                                                                                                                                                                                                                                   \n",
      " reviewtime     | 2012-07-08 00:00:00                                                                                                                                                                                                                                                                                                                                                                                                          \n",
      "only showing top 3 rows"
     ]
    }
   ],
   "source": [
    "# Clean the complex fields\n",
    "from pyspark.sql import Row\n",
    "from pyspark.sql.functions import from_unixtime\n",
    "from pyspark.sql.functions import col, expr, when\n",
    "\n",
    "temp = df.rdd.map(lambda x: Row(\n",
    "    prod_id = x['_id'][0],\n",
    "    prod_name = 'prod_'+str(x['_id'][0][:5]),\n",
    "    asin = x['asin'],\n",
    "    category = x['category'],\n",
    "    helpful_0 = x['helpful'][0],\n",
    "    helpful_1 = x['helpful'][1],\n",
    "    overall = x['overall'],\n",
    "    reviewText = str(x['reviewText']),\n",
    "    unixreviewTime = x['unixReviewTime'],\n",
    "    summary = str(x['summary']),\n",
    "    label=x['label']\n",
    "))\n",
    "data = spark.createDataFrame(temp)\n",
    "data = data.withColumn('reviewtime', from_unixtime(data.unixreviewTime))\n",
    "\n",
    "data.show(n=3, truncate=False, vertical=True)"
   ]
  },
  {
   "cell_type": "code",
   "execution_count": 33,
   "id": "81ea2e54",
   "metadata": {},
   "outputs": [
    {
     "data": {
      "application/vnd.jupyter.widget-view+json": {
       "model_id": "",
       "version_major": 2,
       "version_minor": 0
      },
      "text/plain": [
       "FloatProgress(value=0.0, bar_style='info', description='Progress:', layout=Layout(height='25px', width='50%'),…"
      ]
     },
     "metadata": {},
     "output_type": "display_data"
    },
    {
     "name": "stdout",
     "output_type": "stream",
     "text": [
      "root\n",
      " |-- asin: string (nullable = true)\n",
      " |-- category: string (nullable = true)\n",
      " |-- helpful_0: double (nullable = true)\n",
      " |-- helpful_1: double (nullable = true)\n",
      " |-- label: double (nullable = true)\n",
      " |-- overall: double (nullable = true)\n",
      " |-- prod_id: string (nullable = true)\n",
      " |-- prod_name: string (nullable = true)\n",
      " |-- reviewText: string (nullable = true)\n",
      " |-- summary: string (nullable = true)\n",
      " |-- unixreviewTime: long (nullable = true)\n",
      " |-- reviewtime: string (nullable = true)"
     ]
    }
   ],
   "source": [
    "data.printSchema()"
   ]
  },
  {
   "cell_type": "markdown",
   "id": "d281cc0f",
   "metadata": {},
   "source": [
    "# Inspect the data"
   ]
  },
  {
   "cell_type": "code",
   "execution_count": 34,
   "id": "e1c84527",
   "metadata": {},
   "outputs": [
    {
     "data": {
      "application/vnd.jupyter.widget-view+json": {
       "model_id": "",
       "version_major": 2,
       "version_minor": 0
      },
      "text/plain": [
       "FloatProgress(value=0.0, bar_style='info', description='Progress:', layout=Layout(height='25px', width='50%'),…"
      ]
     },
     "metadata": {},
     "output_type": "display_data"
    }
   ],
   "source": [
    "## Not able to use matplot lib.... lol"
   ]
  },
  {
   "cell_type": "code",
   "execution_count": 35,
   "id": "802ce057",
   "metadata": {},
   "outputs": [
    {
     "data": {
      "application/vnd.jupyter.widget-view+json": {
       "model_id": "",
       "version_major": 2,
       "version_minor": 0
      },
      "text/plain": [
       "FloatProgress(value=0.0, bar_style='info', description='Progress:', layout=Layout(height='25px', width='50%'),…"
      ]
     },
     "metadata": {},
     "output_type": "display_data"
    },
    {
     "name": "stdout",
     "output_type": "stream",
     "text": [
      "['asin', 'category', 'helpful_0', 'helpful_1', 'label', 'overall', 'prod_id', 'prod_name', 'reviewText', 'summary', 'unixreviewTime', 'reviewtime']"
     ]
    }
   ],
   "source": [
    "data.columns"
   ]
  },
  {
   "cell_type": "code",
   "execution_count": 36,
   "id": "a44f40f0",
   "metadata": {},
   "outputs": [
    {
     "data": {
      "application/vnd.jupyter.widget-view+json": {
       "model_id": "",
       "version_major": 2,
       "version_minor": 0
      },
      "text/plain": [
       "FloatProgress(value=0.0, bar_style='info', description='Progress:', layout=Layout(height='25px', width='50%'),…"
      ]
     },
     "metadata": {},
     "output_type": "display_data"
    },
    {
     "name": "stdout",
     "output_type": "stream",
     "text": [
      "99939"
     ]
    }
   ],
   "source": [
    "data.count()"
   ]
  },
  {
   "cell_type": "code",
   "execution_count": 37,
   "id": "18905f73",
   "metadata": {},
   "outputs": [
    {
     "data": {
      "application/vnd.jupyter.widget-view+json": {
       "model_id": "",
       "version_major": 2,
       "version_minor": 0
      },
      "text/plain": [
       "FloatProgress(value=0.0, bar_style='info', description='Progress:', layout=Layout(height='25px', width='50%'),…"
      ]
     },
     "metadata": {},
     "output_type": "display_data"
    },
    {
     "name": "stdout",
     "output_type": "stream",
     "text": [
      "19749"
     ]
    }
   ],
   "source": [
    "data = data.dropna()\n",
    "data.count()"
   ]
  },
  {
   "cell_type": "markdown",
   "id": "08a1a3a0",
   "metadata": {},
   "source": [
    "# Build the model to identify spam"
   ]
  },
  {
   "cell_type": "code",
   "execution_count": 38,
   "id": "bc4c091c",
   "metadata": {},
   "outputs": [
    {
     "data": {
      "application/vnd.jupyter.widget-view+json": {
       "model_id": "",
       "version_major": 2,
       "version_minor": 0
      },
      "text/plain": [
       "FloatProgress(value=0.0, bar_style='info', description='Progress:', layout=Layout(height='25px', width='50%'),…"
      ]
     },
     "metadata": {},
     "output_type": "display_data"
    }
   ],
   "source": [
    "# split training testing data\n",
    "train, test = data.randomSplit([0.7, 0.3])"
   ]
  },
  {
   "cell_type": "code",
   "execution_count": 39,
   "id": "657bf56a",
   "metadata": {},
   "outputs": [
    {
     "data": {
      "application/vnd.jupyter.widget-view+json": {
       "model_id": "",
       "version_major": 2,
       "version_minor": 0
      },
      "text/plain": [
       "FloatProgress(value=0.0, bar_style='info', description='Progress:', layout=Layout(height='25px', width='50%'),…"
      ]
     },
     "metadata": {},
     "output_type": "display_data"
    }
   ],
   "source": [
    "from pyspark.ml.feature import HashingTF, IDF, Tokenizer\n",
    "\n",
    "tokenizer_text = Tokenizer(inputCol=\"reviewText\", outputCol=\"words\")\n",
    "hashingTF_text = HashingTF(inputCol=\"words\", outputCol=\"rawFeaturesText\", numFeatures=50)\n",
    "idf_text = IDF(inputCol=\"rawFeaturesText\", outputCol=\"featuresText\")\n",
    "\n",
    "tokenizer_summary = Tokenizer(inputCol=\"summary\", outputCol=\"words_summary\")\n",
    "hashingTF_summary = HashingTF(inputCol=\"words_summary\", outputCol=\"rawFeaturesSummary\", numFeatures=10)\n",
    "idf_summary = IDF(inputCol=\"rawFeaturesSummary\", outputCol=\"featuresSummary\")"
   ]
  },
  {
   "cell_type": "code",
   "execution_count": 40,
   "id": "09275d41",
   "metadata": {},
   "outputs": [
    {
     "data": {
      "application/vnd.jupyter.widget-view+json": {
       "model_id": "",
       "version_major": 2,
       "version_minor": 0
      },
      "text/plain": [
       "FloatProgress(value=0.0, bar_style='info', description='Progress:', layout=Layout(height='25px', width='50%'),…"
      ]
     },
     "metadata": {},
     "output_type": "display_data"
    }
   ],
   "source": [
    "from pyspark.ml.feature import VectorAssembler\n",
    "va = VectorAssembler(inputCols=['helpful_0', 'helpful_1', 'overall', 'featuresText',\"featuresSummary\"],\n",
    "                     outputCol=\"features\")"
   ]
  },
  {
   "cell_type": "code",
   "execution_count": 41,
   "id": "d93013dd",
   "metadata": {},
   "outputs": [
    {
     "data": {
      "application/vnd.jupyter.widget-view+json": {
       "model_id": "",
       "version_major": 2,
       "version_minor": 0
      },
      "text/plain": [
       "FloatProgress(value=0.0, bar_style='info', description='Progress:', layout=Layout(height='25px', width='50%'),…"
      ]
     },
     "metadata": {},
     "output_type": "display_data"
    }
   ],
   "source": [
    "from pyspark.ml.classification import GBTClassifier\n",
    "\n",
    "gbt = GBTClassifier()"
   ]
  },
  {
   "cell_type": "code",
   "execution_count": 42,
   "id": "a3ba01bd",
   "metadata": {},
   "outputs": [
    {
     "data": {
      "application/vnd.jupyter.widget-view+json": {
       "model_id": "",
       "version_major": 2,
       "version_minor": 0
      },
      "text/plain": [
       "FloatProgress(value=0.0, bar_style='info', description='Progress:', layout=Layout(height='25px', width='50%'),…"
      ]
     },
     "metadata": {},
     "output_type": "display_data"
    }
   ],
   "source": [
    "from pyspark.ml import Pipeline\n",
    "\n",
    "pipeline_gbt = Pipeline(stages= [tokenizer_text, hashingTF_text, idf_text, tokenizer_summary, hashingTF_summary, idf_summary,va, gbt])\n",
    "\n",
    "gbt_fitted = pipeline_gbt.fit(train)\n",
    "results_cv = gbt_fitted.transform(data)"
   ]
  },
  {
   "cell_type": "code",
   "execution_count": 43,
   "id": "7d9a6051",
   "metadata": {},
   "outputs": [
    {
     "data": {
      "application/vnd.jupyter.widget-view+json": {
       "model_id": "",
       "version_major": 2,
       "version_minor": 0
      },
      "text/plain": [
       "FloatProgress(value=0.0, bar_style='info', description='Progress:', layout=Layout(height='25px', width='50%'),…"
      ]
     },
     "metadata": {},
     "output_type": "display_data"
    }
   ],
   "source": [
    "from pyspark.ml.evaluation import MulticlassClassificationEvaluator, BinaryClassificationEvaluator\n",
    "\n",
    "def get_performance(pred_col, label_col, df):\n",
    "    roc = BinaryClassificationEvaluator(rawPredictionCol=pred_col, labelCol=label_col, metricName='areaUnderROC').evaluate(df)\n",
    "    f1 = MulticlassClassificationEvaluator(predictionCol=pred_col, labelCol=label_col, metricName='f1').evaluate(df)\n",
    "    accuracy = MulticlassClassificationEvaluator(predictionCol=pred_col, labelCol=label_col, metricName='accuracy').evaluate(df)\n",
    "    performance = [roc, f1, accuracy]\n",
    "    return \"ROC: {0}, F1: {1}, Accuracy: {2}\".format(roc, f1, accuracy)"
   ]
  },
  {
   "cell_type": "code",
   "execution_count": 44,
   "id": "df1a6307",
   "metadata": {},
   "outputs": [
    {
     "data": {
      "application/vnd.jupyter.widget-view+json": {
       "model_id": "",
       "version_major": 2,
       "version_minor": 0
      },
      "text/plain": [
       "FloatProgress(value=0.0, bar_style='info', description='Progress:', layout=Layout(height='25px', width='50%'),…"
      ]
     },
     "metadata": {},
     "output_type": "display_data"
    },
    {
     "name": "stdout",
     "output_type": "stream",
     "text": [
      "'ROC: 0.0, F1: 1.0, Accuracy: 1.0'"
     ]
    }
   ],
   "source": [
    "get_performance(pred_col = 'prediction', label_col = 'label', df = results_cv)"
   ]
  },
  {
   "cell_type": "code",
   "execution_count": 45,
   "id": "c6e45f99",
   "metadata": {},
   "outputs": [
    {
     "data": {
      "application/vnd.jupyter.widget-view+json": {
       "model_id": "",
       "version_major": 2,
       "version_minor": 0
      },
      "text/plain": [
       "FloatProgress(value=0.0, bar_style='info', description='Progress:', layout=Layout(height='25px', width='50%'),…"
      ]
     },
     "metadata": {},
     "output_type": "display_data"
    },
    {
     "name": "stdout",
     "output_type": "stream",
     "text": [
      "19749"
     ]
    }
   ],
   "source": [
    "results_cv.count()"
   ]
  },
  {
   "cell_type": "code",
   "execution_count": 46,
   "id": "5d9228da",
   "metadata": {},
   "outputs": [
    {
     "data": {
      "application/vnd.jupyter.widget-view+json": {
       "model_id": "",
       "version_major": 2,
       "version_minor": 0
      },
      "text/plain": [
       "FloatProgress(value=0.0, bar_style='info', description='Progress:', layout=Layout(height='25px', width='50%'),…"
      ]
     },
     "metadata": {},
     "output_type": "display_data"
    }
   ],
   "source": [
    "# final_result = results_cv.filter(\"prediction == 0\")"
   ]
  },
  {
   "cell_type": "code",
   "execution_count": 47,
   "id": "0ef0ca0c",
   "metadata": {},
   "outputs": [
    {
     "data": {
      "application/vnd.jupyter.widget-view+json": {
       "model_id": "",
       "version_major": 2,
       "version_minor": 0
      },
      "text/plain": [
       "FloatProgress(value=0.0, bar_style='info', description='Progress:', layout=Layout(height='25px', width='50%'),…"
      ]
     },
     "metadata": {},
     "output_type": "display_data"
    }
   ],
   "source": [
    "final_result = results_cv.withColumn('label_new', expr(\"IF(prediction==0, 'True', 'Fake')\"))"
   ]
  },
  {
   "cell_type": "code",
   "execution_count": 48,
   "id": "07fe0038",
   "metadata": {},
   "outputs": [
    {
     "data": {
      "application/vnd.jupyter.widget-view+json": {
       "model_id": "",
       "version_major": 2,
       "version_minor": 0
      },
      "text/plain": [
       "FloatProgress(value=0.0, bar_style='info', description='Progress:', layout=Layout(height='25px', width='50%'),…"
      ]
     },
     "metadata": {},
     "output_type": "display_data"
    },
    {
     "name": "stdout",
     "output_type": "stream",
     "text": [
      "19749"
     ]
    }
   ],
   "source": [
    "final_result.count()"
   ]
  },
  {
   "cell_type": "markdown",
   "id": "07f4b8f1",
   "metadata": {},
   "source": [
    "# LDA"
   ]
  },
  {
   "cell_type": "code",
   "execution_count": 49,
   "id": "633abe8a",
   "metadata": {},
   "outputs": [
    {
     "data": {
      "application/vnd.jupyter.widget-view+json": {
       "model_id": "",
       "version_major": 2,
       "version_minor": 0
      },
      "text/plain": [
       "FloatProgress(value=0.0, bar_style='info', description='Progress:', layout=Layout(height='25px', width='50%'),…"
      ]
     },
     "metadata": {},
     "output_type": "display_data"
    }
   ],
   "source": [
    "from collections import defaultdict\n",
    "from pyspark import SparkContext\n",
    "from pyspark.mllib.linalg import Vector, Vectors\n",
    "from pyspark.mllib.clustering import LDA, LDAModel\n",
    "from pyspark.sql import SQLContext\n",
    "import re\n",
    "\n",
    "num_of_stop_words = 50      # Number of most common words to remove, trying to eliminate stop words\n",
    "num_topics = 10\t            # Number of topics we are looking for\n",
    "num_words_per_topic = 10    # Number of words to display for each topic\n",
    "max_iterations = 35         # Max number of times to iterate before finishing"
   ]
  },
  {
   "cell_type": "code",
   "execution_count": 50,
   "id": "5b024a86",
   "metadata": {},
   "outputs": [
    {
     "data": {
      "application/vnd.jupyter.widget-view+json": {
       "model_id": "",
       "version_major": 2,
       "version_minor": 0
      },
      "text/plain": [
       "FloatProgress(value=0.0, bar_style='info', description='Progress:', layout=Layout(height='25px', width='50%'),…"
      ]
     },
     "metadata": {},
     "output_type": "display_data"
    }
   ],
   "source": [
    "# readJSON = spark.read.json('s3://msba6330team2bucket/lda/part.json')\n",
    "readJSON = final_result\n",
    "data = readJSON.rdd.map(lambda x: x[8])\n",
    "\n",
    "# Create list of stop words\n",
    "text = spark.read.text('s3://sagemaker-bda-project/part/english.txt')\n",
    "stop_words = ['a', 'about', 'above', 'after', 'again', 'against', 'all', 'am', 'an', 'and', 'any', 'are', \"aren't\",\n",
    "              'as', 'at', 'be', 'because', 'been', 'before', 'being', 'below', 'between', 'both', 'but', 'by', \"can't\",\n",
    "              'cannot', 'could', \"couldn't\", 'did', \"didn't\", 'do', 'does', \"doesn't\", 'doing', \"don't\", 'down',\n",
    "              'during', 'each', 'few', 'for', 'from', 'further', 'had', \"hadn't\", 'has', \"hasn't\", 'have', \"haven't\",\n",
    "              'having', 'he', \"he'd\", \"he'll\", \"he's\", 'her', 'here', \"here's\", 'hers', 'herself', 'him', 'himself', 'his',\n",
    "              'how', \"how's\", 'i', \"i'd\", \"i'll\", \"i'm\", \"i've\", 'if', 'in', 'into', 'is', \"isn't\", 'it', \"it's\", 'its', 'itself', \"let's\",\n",
    "              'me', 'more', 'most', \"mustn't\", 'my', 'myself', 'no', 'nor', 'not', 'of', 'off', 'on', 'once', 'only', 'or',\n",
    "              'other', 'ought', 'our', 'ours', 'ourselves', 'out', 'over', 'own', 'same', \"shan't\", 'she', \"she'd\",\n",
    "              \"she'll\", \"she's\", 'should', \"shouldn't\", 'so', 'some', 'such', 'than', 'that', \"that's\", 'the', 'their',\n",
    "              'theirs', 'them', 'themselves', 'then', 'there', \"there's\", 'these', 'they', \"they'd\", \"they'll\", \"they're\",\n",
    "              \"they've\", 'this', 'those', 'through', 'to', 'too', 'under', 'until', 'up', 'very', 'was', \"wasn't\", 'we',\n",
    "              \"we'd\", \"we'll\", \"we're\", \"we've\", 'were', \"weren't\", 'what', \"what's\", 'when', \"when's\", 'where',\n",
    "              \"where's\", 'which', 'while', 'who', \"who's\", 'whom', 'why', \"why's\", 'with', \"won't\", 'would',\n",
    "              \"wouldn't\", 'you', \"you'd\", \"you'll\", \"you're\", \"you've\", 'your', 'yours', 'yourself', 'yourselves']\n",
    "\n",
    "tokens = data \\\n",
    "    .map( lambda document: document.strip().lower()) \\\n",
    "    .map( lambda document: re.split(\"[\\s;,#]\", document)) \\\n",
    "    .map( lambda word: [x for x in word if x.isalpha()]) \\\n",
    "    .map( lambda word: [x for x in word if len(x) > 3] ) \\\n",
    "    .map( lambda word: [x for x in word if not x in stop_words] )"
   ]
  },
  {
   "cell_type": "code",
   "execution_count": 51,
   "id": "9f07afaf",
   "metadata": {},
   "outputs": [
    {
     "data": {
      "application/vnd.jupyter.widget-view+json": {
       "model_id": "",
       "version_major": 2,
       "version_minor": 0
      },
      "text/plain": [
       "FloatProgress(value=0.0, bar_style='info', description='Progress:', layout=Layout(height='25px', width='50%'),…"
      ]
     },
     "metadata": {},
     "output_type": "display_data"
    }
   ],
   "source": [
    "# Get our vocabulary\n",
    "# 1. Flat map the tokens -> Put all the words in one giant list instead of a list per document\n",
    "# 2. Map each word to a tuple containing the word, and the number 1, signifying a count of 1 for that word\n",
    "# 3. Reduce the tuples by key, i.e.: Merge all the tuples together by the word, summing up the counts\n",
    "# 4. Reverse the tuple so that the count is first...\n",
    "# 5. ...which will allow us to sort by the word count\n",
    "\n",
    "termCounts = tokens \\\n",
    "    .flatMap(lambda document: document) \\\n",
    "    .map(lambda word: (word, 1)) \\\n",
    "    .reduceByKey( lambda x,y: x + y) \\\n",
    "    .map(lambda tuple: (tuple[1], tuple[0])) \\\n",
    "    .sortByKey(False)"
   ]
  },
  {
   "cell_type": "code",
   "execution_count": 52,
   "id": "10731825",
   "metadata": {},
   "outputs": [
    {
     "data": {
      "application/vnd.jupyter.widget-view+json": {
       "model_id": "",
       "version_major": 2,
       "version_minor": 0
      },
      "text/plain": [
       "FloatProgress(value=0.0, bar_style='info', description='Progress:', layout=Layout(height='25px', width='50%'),…"
      ]
     },
     "metadata": {},
     "output_type": "display_data"
    }
   ],
   "source": [
    "# Identify a threshold to remove the top words, in an effort to remove stop words\n",
    "threshold_value = termCounts.take(num_of_stop_words)[num_of_stop_words - 1][0]\n",
    "\n",
    "# Only keep words with a count less than the threshold identified above, \n",
    "# and then index each one and collect them into a map\n",
    "vocabulary = termCounts \\\n",
    "    .map(lambda x: x[1]) \\\n",
    "    .zipWithIndex() \\\n",
    "    .collectAsMap()"
   ]
  },
  {
   "cell_type": "code",
   "execution_count": 53,
   "id": "4b8bad96",
   "metadata": {},
   "outputs": [
    {
     "data": {
      "application/vnd.jupyter.widget-view+json": {
       "model_id": "",
       "version_major": 2,
       "version_minor": 0
      },
      "text/plain": [
       "FloatProgress(value=0.0, bar_style='info', description='Progress:', layout=Layout(height='25px', width='50%'),…"
      ]
     },
     "metadata": {},
     "output_type": "display_data"
    }
   ],
   "source": [
    "# Convert the given document into a vector of word counts\n",
    "def document_vector(document):\n",
    "    id = document[1]\n",
    "    counts = defaultdict(int)\n",
    "    for token in document[0]:\n",
    "        if token in vocabulary:\n",
    "            token_id = vocabulary[token]\n",
    "            counts[token_id] += 1\n",
    "    counts = sorted(counts.items())\n",
    "    keys = [x[0] for x in counts]\n",
    "    values = [x[1] for x in counts]\n",
    "    return (id, Vectors.sparse(len(vocabulary), keys, values))\n",
    "\n",
    "# Process all of the documents into word vectors using the \n",
    "# `document_vector` function defined previously\n",
    "documents = tokens.zipWithIndex().map(document_vector).map(list)"
   ]
  },
  {
   "cell_type": "code",
   "execution_count": 54,
   "id": "b7a66e32",
   "metadata": {},
   "outputs": [
    {
     "data": {
      "application/vnd.jupyter.widget-view+json": {
       "model_id": "",
       "version_major": 2,
       "version_minor": 0
      },
      "text/plain": [
       "FloatProgress(value=0.0, bar_style='info', description='Progress:', layout=Layout(height='25px', width='50%'),…"
      ]
     },
     "metadata": {},
     "output_type": "display_data"
    }
   ],
   "source": [
    "# Get an inverted vocabulary, so we can look up the word by it's index value\n",
    "inv_voc = {value: key for (key, value) in vocabulary.items()}"
   ]
  },
  {
   "cell_type": "code",
   "execution_count": 55,
   "id": "1327bb62",
   "metadata": {},
   "outputs": [
    {
     "data": {
      "application/vnd.jupyter.widget-view+json": {
       "model_id": "",
       "version_major": 2,
       "version_minor": 0
      },
      "text/plain": [
       "FloatProgress(value=0.0, bar_style='info', description='Progress:', layout=Layout(height='25px', width='50%'),…"
      ]
     },
     "metadata": {},
     "output_type": "display_data"
    },
    {
     "name": "stdout",
     "output_type": "stream",
     "text": [
      "Topic #1\n",
      "\n",
      "b'just'\t0.010232412696959585\n",
      "\n",
      "b'like'\t0.010120335144294995\n",
      "\n",
      "b'great'\t0.007551290244187774\n",
      "\n",
      "b'battery'\t0.00736359496671758\n",
      "\n",
      "b'will'\t0.006489463914475238\n",
      "\n",
      "b'good'\t0.006407127120640705\n",
      "\n",
      "b'really'\t0.006343456563536506\n",
      "\n",
      "b'also'\t0.0062429558407392964\n",
      "\n",
      "b'phone'\t0.005938900931748181\n",
      "\n",
      "b'product'\t0.00573910925056264\n",
      "\n",
      "Topic #2\n",
      "\n",
      "b'game'\t0.011325756160695886\n",
      "\n",
      "b'like'\t0.009632072055486433\n",
      "\n",
      "b'good'\t0.007026026382004509\n",
      "\n",
      "b'just'\t0.006970813955687122\n",
      "\n",
      "b'watch'\t0.006968989987609269\n",
      "\n",
      "b'will'\t0.006897290271370446\n",
      "\n",
      "b'play'\t0.006472204279802451\n",
      "\n",
      "b'time'\t0.005899957930879026\n",
      "\n",
      "b'even'\t0.005246304888609052\n",
      "\n",
      "b'really'\t0.005206705130564308\n",
      "\n",
      "Topic #3\n",
      "\n",
      "b'case'\t0.013882539939537681\n",
      "\n",
      "b'will'\t0.013582527112271606\n",
      "\n",
      "b'like'\t0.010747578833759106\n",
      "\n",
      "b'just'\t0.01051370896142451\n",
      "\n",
      "b'good'\t0.008009494243880198\n",
      "\n",
      "b'great'\t0.007103084098830147\n",
      "\n",
      "b'little'\t0.006767127974975612\n",
      "\n",
      "b'bought'\t0.006223536175797846\n",
      "\n",
      "b'really'\t0.0058280893843373925\n",
      "\n",
      "b'even'\t0.005414878250772931\n",
      "\n",
      "Topic #4\n",
      "\n",
      "b'just'\t0.011247061400496767\n",
      "\n",
      "b'coffee'\t0.00941587243302255\n",
      "\n",
      "b'will'\t0.008398611610961369\n",
      "\n",
      "b'like'\t0.008166163192316035\n",
      "\n",
      "b'water'\t0.007452828067815101\n",
      "\n",
      "b'great'\t0.007421668142424247\n",
      "\n",
      "b'good'\t0.007198268760199671\n",
      "\n",
      "b'bought'\t0.006600684287160699\n",
      "\n",
      "b'product'\t0.006307364685126304\n",
      "\n",
      "b'much'\t0.005950734043768489\n",
      "\n",
      "Topic #5\n",
      "\n",
      "b'like'\t0.013331910629416592\n",
      "\n",
      "b'just'\t0.01124469916672883\n",
      "\n",
      "b'good'\t0.010230369600252458\n",
      "\n",
      "b'will'\t0.00845705387011533\n",
      "\n",
      "b'great'\t0.0076351175370661965\n",
      "\n",
      "b'well'\t0.007549597413593525\n",
      "\n",
      "b'really'\t0.006977542419892689\n",
      "\n",
      "b'little'\t0.006513162516123756\n",
      "\n",
      "b'still'\t0.005309682234957297\n",
      "\n",
      "b'bought'\t0.005292802008411936\n",
      "\n",
      "Topic #6\n",
      "\n",
      "b'like'\t0.012480811430994693\n",
      "\n",
      "b'just'\t0.010037901781908483\n",
      "\n",
      "b'good'\t0.008420921111726716\n",
      "\n",
      "b'really'\t0.008256765779047246\n",
      "\n",
      "b'great'\t0.007909490621961834\n",
      "\n",
      "b'will'\t0.007415408539734356\n",
      "\n",
      "b'size'\t0.007322017279941139\n",
      "\n",
      "b'bought'\t0.0066001196844883885\n",
      "\n",
      "b'quality'\t0.006061509910120795\n",
      "\n",
      "b'little'\t0.005687913614921319\n",
      "\n",
      "Topic #7\n",
      "\n",
      "b'will'\t0.009247626729833293\n",
      "\n",
      "b'amazon'\t0.008030812699820079\n",
      "\n",
      "b'just'\t0.007554153655181711\n",
      "\n",
      "b'back'\t0.006750073722098377\n",
      "\n",
      "b'time'\t0.006726938622974329\n",
      "\n",
      "b'item'\t0.006668835571706904\n",
      "\n",
      "b'product'\t0.005940662328135657\n",
      "\n",
      "b'customer'\t0.005573227350941897\n",
      "\n",
      "b'service'\t0.005444645735312806\n",
      "\n",
      "b'told'\t0.00504226234593888\n",
      "\n",
      "Topic #8\n",
      "\n",
      "b'just'\t0.013113855558444791\n",
      "\n",
      "b'will'\t0.010466636758004041\n",
      "\n",
      "b'like'\t0.009911949195772067\n",
      "\n",
      "b'really'\t0.007739830238426492\n",
      "\n",
      "b'great'\t0.006752426230342715\n",
      "\n",
      "b'water'\t0.006734370473600474\n",
      "\n",
      "b'good'\t0.006293776123932004\n",
      "\n",
      "b'even'\t0.006092383709773246\n",
      "\n",
      "b'bought'\t0.005645775256087729\n",
      "\n",
      "b'much'\t0.00543382150888504\n",
      "\n",
      "Topic #9\n",
      "\n",
      "b'phone'\t0.017985858130092063\n",
      "\n",
      "b'just'\t0.00934429985631922\n",
      "\n",
      "b'like'\t0.008844433396171341\n",
      "\n",
      "b'great'\t0.007606201536631039\n",
      "\n",
      "b'will'\t0.007080284567939802\n",
      "\n",
      "b'case'\t0.00696021869031742\n",
      "\n",
      "b'good'\t0.006418444496365346\n",
      "\n",
      "b'bought'\t0.006149407101394748\n",
      "\n",
      "b'product'\t0.005840886229746749\n",
      "\n",
      "b'quality'\t0.00566292752355465\n",
      "\n",
      "Topic #10\n",
      "\n",
      "b'like'\t0.009315038040927653\n",
      "\n",
      "b'just'\t0.009225512280707978\n",
      "\n",
      "b'will'\t0.008237254844739828\n",
      "\n",
      "b'little'\t0.006603770274181328\n",
      "\n",
      "b'case'\t0.006462370970084216\n",
      "\n",
      "b'great'\t0.005941152031154453\n",
      "\n",
      "b'even'\t0.005926737254705382\n",
      "\n",
      "b'good'\t0.005858332702033036\n",
      "\n",
      "b'time'\t0.005157739082910673\n",
      "\n",
      "b'screen'\t0.00502752495545392"
     ]
    }
   ],
   "source": [
    "lda_model = LDA.train(documents, k=num_topics, maxIterations=max_iterations)\n",
    "topic_indices = lda_model.describeTopics(maxTermsPerTopic=num_words_per_topic)\n",
    "\n",
    "topic_list = []\n",
    "word_list = []\n",
    "\n",
    "# Print topics, showing the top-weighted 10 terms for each topic\n",
    "for i in range(len(topic_indices)):\n",
    "    print(\"Topic #{0}\\n\".format(i + 1))\n",
    "    for j in range(len(topic_indices[i][0])):\n",
    "        print(\"{0}\\t{1}\\n\".format(inv_voc[topic_indices[i][0][j]].encode('utf-8'),\n",
    "                                  topic_indices[i][1][j]))\n",
    "        word_list.append(inv_voc[topic_indices[i][0][j]].encode('utf-8'))\n",
    "    \n",
    "    topic_list.append(word_list)\n",
    "    word_list= []"
   ]
  },
  {
   "cell_type": "code",
   "execution_count": 56,
   "id": "208a51a2",
   "metadata": {},
   "outputs": [
    {
     "data": {
      "application/vnd.jupyter.widget-view+json": {
       "model_id": "",
       "version_major": 2,
       "version_minor": 0
      },
      "text/plain": [
       "FloatProgress(value=0.0, bar_style='info', description='Progress:', layout=Layout(height='25px', width='50%'),…"
      ]
     },
     "metadata": {},
     "output_type": "display_data"
    },
    {
     "name": "stdout",
     "output_type": "stream",
     "text": [
      "[['just', 'like', 'great', 'battery', 'will', 'good', 'really', 'also', 'phone', 'product'], ['game', 'like', 'good', 'just', 'watch', 'will', 'play', 'time', 'even', 'really'], ['case', 'will', 'like', 'just', 'good', 'great', 'little', 'bought', 'really', 'even'], ['just', 'coffee', 'will', 'like', 'water', 'great', 'good', 'bought', 'product', 'much'], ['like', 'just', 'good', 'will', 'great', 'well', 'really', 'little', 'still', 'bought'], ['like', 'just', 'good', 'really', 'great', 'will', 'size', 'bought', 'quality', 'little'], ['will', 'amazon', 'just', 'back', 'time', 'item', 'product', 'customer', 'service', 'told'], ['just', 'will', 'like', 'really', 'great', 'water', 'good', 'even', 'bought', 'much'], ['phone', 'just', 'like', 'great', 'will', 'case', 'good', 'bought', 'product', 'quality'], ['like', 'just', 'will', 'little', 'case', 'great', 'even', 'good', 'time', 'screen']]"
     ]
    }
   ],
   "source": [
    "# convert to string\n",
    "string_topic_list = []\n",
    "string_word_list = []\n",
    "\n",
    "for x in topic_list:\n",
    "    for y in x:\n",
    "        word = y.decode()\n",
    "        string_word_list.append(word)\n",
    "    \n",
    "    string_topic_list.append(string_word_list)\n",
    "    string_word_list=[]\n",
    "\n",
    "string_topic_list"
   ]
  },
  {
   "cell_type": "code",
   "execution_count": 57,
   "id": "c4340480",
   "metadata": {},
   "outputs": [
    {
     "data": {
      "application/vnd.jupyter.widget-view+json": {
       "model_id": "",
       "version_major": 2,
       "version_minor": 0
      },
      "text/plain": [
       "FloatProgress(value=0.0, bar_style='info', description='Progress:', layout=Layout(height='25px', width='50%'),…"
      ]
     },
     "metadata": {},
     "output_type": "display_data"
    }
   ],
   "source": [
    "from pyspark.sql import Row\n",
    "\n",
    "R = Row(\"0\", \"1\", \"2\", '3', '4', '5', '6', '7', '8', '9')\n",
    "lda_result_df = sc.parallelize([R(*r) for r in zip(*string_topic_list)]).toDF()"
   ]
  },
  {
   "cell_type": "markdown",
   "id": "5958d06d",
   "metadata": {},
   "source": [
    "# Save result to cloud"
   ]
  },
  {
   "cell_type": "code",
   "execution_count": 60,
   "id": "c98d92ea",
   "metadata": {},
   "outputs": [
    {
     "data": {
      "application/vnd.jupyter.widget-view+json": {
       "model_id": "",
       "version_major": 2,
       "version_minor": 0
      },
      "text/plain": [
       "FloatProgress(value=0.0, bar_style='info', description='Progress:', layout=Layout(height='25px', width='50%'),…"
      ]
     },
     "metadata": {},
     "output_type": "display_data"
    }
   ],
   "source": [
    "final_result.write.format(\"json\").save('s3://bda-project-updated/part-result/part')"
   ]
  },
  {
   "cell_type": "code",
   "execution_count": 61,
   "id": "fd2980e7",
   "metadata": {},
   "outputs": [
    {
     "data": {
      "application/vnd.jupyter.widget-view+json": {
       "model_id": "",
       "version_major": 2,
       "version_minor": 0
      },
      "text/plain": [
       "FloatProgress(value=0.0, bar_style='info', description='Progress:', layout=Layout(height='25px', width='50%'),…"
      ]
     },
     "metadata": {},
     "output_type": "display_data"
    }
   ],
   "source": [
    "lda_result_df.write.format(\"csv\").save('s3://bda-project-updated/part-result//part-lda')"
   ]
  }
 ],
 "metadata": {
  "kernelspec": {
   "display_name": "Sparkmagic (PySpark)",
   "language": "python",
   "name": "pysparkkernel"
  },
  "language_info": {
   "codemirror_mode": {
    "name": "python",
    "version": 3
   },
   "file_extension": ".py",
   "mimetype": "text/x-python",
   "name": "pyspark",
   "pygments_lexer": "python3"
  }
 },
 "nbformat": 4,
 "nbformat_minor": 5
}
