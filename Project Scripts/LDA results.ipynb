{
 "cells": [
  {
   "cell_type": "markdown",
   "id": "b9bf980e",
   "metadata": {},
   "source": [
    "# LDA"
   ]
  },
  {
   "cell_type": "code",
   "execution_count": 1,
   "id": "f8efb344",
   "metadata": {},
   "outputs": [
    {
     "name": "stdout",
     "output_type": "stream",
     "text": [
      "Starting Spark application\n"
     ]
    },
    {
     "data": {
      "text/html": [
       "<table>\n",
       "<tr><th>ID</th><th>YARN Application ID</th><th>Kind</th><th>State</th><th>Spark UI</th><th>Driver log</th><th>User</th><th>Current session?</th></tr><tr><td>0</td><td>application_1619886977903_0001</td><td>pyspark</td><td>idle</td><td><a target=\"_blank\" href=\"http://ip-172-31-19-94.ec2.internal:20888/proxy/application_1619886977903_0001/\">Link</a></td><td><a target=\"_blank\" href=\"http://ip-172-31-20-129.ec2.internal:8042/node/containerlogs/container_1619886977903_0001_01_000001/livy\">Link</a></td><td>None</td><td>✔</td></tr></table>"
      ],
      "text/plain": [
       "<IPython.core.display.HTML object>"
      ]
     },
     "metadata": {},
     "output_type": "display_data"
    },
    {
     "data": {
      "application/vnd.jupyter.widget-view+json": {
       "model_id": "",
       "version_major": 2,
       "version_minor": 0
      },
      "text/plain": [
       "FloatProgress(value=0.0, bar_style='info', description='Progress:', layout=Layout(height='25px', width='50%'),…"
      ]
     },
     "metadata": {},
     "output_type": "display_data"
    },
    {
     "name": "stdout",
     "output_type": "stream",
     "text": [
      "SparkSession available as 'spark'.\n"
     ]
    },
    {
     "data": {
      "application/vnd.jupyter.widget-view+json": {
       "model_id": "",
       "version_major": 2,
       "version_minor": 0
      },
      "text/plain": [
       "FloatProgress(value=0.0, bar_style='info', description='Progress:', layout=Layout(height='25px', width='50%'),…"
      ]
     },
     "metadata": {},
     "output_type": "display_data"
    }
   ],
   "source": [
    "from collections import defaultdict\n",
    "from pyspark import SparkContext\n",
    "from pyspark.mllib.linalg import Vector, Vectors\n",
    "from pyspark.mllib.clustering import LDA, LDAModel\n",
    "from pyspark.sql import SQLContext\n",
    "import re\n",
    "\n",
    "num_of_stop_words = 50      # Number of most common words to remove, trying to eliminate stop words\n",
    "num_topics = 10\t            # Number of topics we are looking for\n",
    "num_words_per_topic = 10    # Number of words to display for each topic\n",
    "max_iterations = 35         # Max number of times to iterate before finishing"
   ]
  },
  {
   "cell_type": "code",
   "execution_count": 17,
   "id": "5da8520e",
   "metadata": {},
   "outputs": [
    {
     "data": {
      "application/vnd.jupyter.widget-view+json": {
       "model_id": "",
       "version_major": 2,
       "version_minor": 0
      },
      "text/plain": [
       "FloatProgress(value=0.0, bar_style='info', description='Progress:', layout=Layout(height='25px', width='50%'),…"
      ]
     },
     "metadata": {},
     "output_type": "display_data"
    }
   ],
   "source": [
    "# read in data\n",
    "readJSON = spark.read.json('s3://bda-project-updated/electronics-result-new/electronics/')\n",
    "data = readJSON.rdd.map(lambda x: x['reviewText'])"
   ]
  },
  {
   "cell_type": "code",
   "execution_count": 21,
   "id": "61619fa0",
   "metadata": {},
   "outputs": [
    {
     "data": {
      "application/vnd.jupyter.widget-view+json": {
       "model_id": "",
       "version_major": 2,
       "version_minor": 0
      },
      "text/plain": [
       "FloatProgress(value=0.0, bar_style='info', description='Progress:', layout=Layout(height='25px', width='50%'),…"
      ]
     },
     "metadata": {},
     "output_type": "display_data"
    }
   ],
   "source": [
    "# Create list of stop words\n",
    "text = spark.read.text('s3://bda-project-updated/english.txt')\n",
    "stop_words = ['a', 'about', 'above', 'after', 'again', 'against', 'all', 'am', 'an', 'and', 'any', 'are', \"aren't\",\n",
    "              'as', 'at', 'be', 'because', 'been', 'before', 'being', 'below', 'between', 'both', 'but', 'by', \"can't\",\n",
    "              'cannot', 'could', \"couldn't\", 'did', \"didn't\", 'do', 'does', \"doesn't\", 'doing', \"don't\", 'down',\n",
    "              'during', 'each', 'few', 'for', 'from', 'further', 'had', \"hadn't\", 'has', \"hasn't\", 'have', \"haven't\",\n",
    "              'having', 'he', \"he'd\", \"he'll\", \"he's\", 'her', 'here', \"here's\", 'hers', 'herself', 'him', 'himself', 'his',\n",
    "              'how', \"how's\", 'i', \"i'd\", \"i'll\", \"i'm\", \"i've\", 'if', 'in', 'into', 'is', \"isn't\", 'it', \"it's\", 'its', 'itself', \"let's\",\n",
    "              'me', 'more', 'most', \"mustn't\", 'my', 'myself', 'no', 'nor', 'not', 'of', 'off', 'on', 'once', 'only', 'or',\n",
    "              'other', 'ought', 'our', 'ours', 'ourselves', 'out', 'over', 'own', 'same', \"shan't\", 'she', \"she'd\",\n",
    "              \"she'll\", \"she's\", 'should', \"shouldn't\", 'so', 'some', 'such', 'than', 'that', \"that's\", 'the', 'their',\n",
    "              'theirs', 'them', 'themselves', 'then', 'there', \"there's\", 'these', 'they', \"they'd\", \"they'll\", \"they're\",\n",
    "              \"they've\", 'this', 'those', 'through', 'to', 'too', 'under', 'until', 'up', 'very', 'was', \"wasn't\", 'we',\n",
    "              \"we'd\", \"we'll\", \"we're\", \"we've\", 'were', \"weren't\", 'what', \"what's\", 'when', \"when's\", 'where',\n",
    "              \"where's\", 'which', 'while', 'who', \"who's\", 'whom', 'why', \"why's\", 'with', \"won't\", 'would',\n",
    "              \"wouldn't\", 'you', \"you'd\", \"you'll\", \"you're\", \"you've\", 'your', 'yours', 'yourself', 'yourselves']"
   ]
  },
  {
   "cell_type": "code",
   "execution_count": 23,
   "id": "a4856e25",
   "metadata": {},
   "outputs": [
    {
     "data": {
      "application/vnd.jupyter.widget-view+json": {
       "model_id": "",
       "version_major": 2,
       "version_minor": 0
      },
      "text/plain": [
       "FloatProgress(value=0.0, bar_style='info', description='Progress:', layout=Layout(height='25px', width='50%'),…"
      ]
     },
     "metadata": {},
     "output_type": "display_data"
    }
   ],
   "source": [
    "# Get our vocabulary\n",
    "# 1. Flat map the tokens -> Put all the words in one giant list instead of a list per document\n",
    "# 2. Map each word to a tuple containing the word, and the number 1, signifying a count of 1 for that word\n",
    "# 3. Reduce the tuples by key, i.e.: Merge all the tuples together by the word, summing up the counts\n",
    "# 4. Reverse the tuple so that the count is first...\n",
    "# 5. ...which will allow us to sort by the word count\n",
    "\n",
    "tokens = data \\\n",
    "    .map( lambda document: document.strip().lower()) \\\n",
    "    .map( lambda document: re.split(\"[\\s;,#]\", document)) \\\n",
    "    .map( lambda word: [x for x in word if x.isalpha()]) \\\n",
    "    .map( lambda word: [x for x in word if len(x) > 3] ) \\\n",
    "    .map( lambda word: [x for x in word if not x in stop_words] )"
   ]
  },
  {
   "cell_type": "code",
   "execution_count": 24,
   "id": "2b619718",
   "metadata": {},
   "outputs": [
    {
     "data": {
      "application/vnd.jupyter.widget-view+json": {
       "model_id": "",
       "version_major": 2,
       "version_minor": 0
      },
      "text/plain": [
       "FloatProgress(value=0.0, bar_style='info', description='Progress:', layout=Layout(height='25px', width='50%'),…"
      ]
     },
     "metadata": {},
     "output_type": "display_data"
    }
   ],
   "source": [
    "termCounts = tokens \\\n",
    "    .flatMap(lambda document: document) \\\n",
    "    .map(lambda word: (word, 1)) \\\n",
    "    .reduceByKey( lambda x,y: x + y) \\\n",
    "    .map(lambda tuple: (tuple[1], tuple[0])) \\\n",
    "    .sortByKey(False)"
   ]
  },
  {
   "cell_type": "code",
   "execution_count": 25,
   "id": "a341c8c4",
   "metadata": {},
   "outputs": [
    {
     "data": {
      "application/vnd.jupyter.widget-view+json": {
       "model_id": "",
       "version_major": 2,
       "version_minor": 0
      },
      "text/plain": [
       "FloatProgress(value=0.0, bar_style='info', description='Progress:', layout=Layout(height='25px', width='50%'),…"
      ]
     },
     "metadata": {},
     "output_type": "display_data"
    }
   ],
   "source": [
    "# Identify a threshold to remove the top words, in an effort to remove stop words\n",
    "threshold_value = termCounts.take(num_of_stop_words)[num_of_stop_words - 1][0]\n",
    "\n",
    "# Only keep words with a count less than the threshold identified above, \n",
    "# and then index each one and collect them into a map\n",
    "vocabulary = termCounts \\\n",
    "    .map(lambda x: x[1]) \\\n",
    "    .zipWithIndex() \\\n",
    "    .collectAsMap()"
   ]
  },
  {
   "cell_type": "code",
   "execution_count": 26,
   "id": "790e5e4d",
   "metadata": {},
   "outputs": [
    {
     "data": {
      "application/vnd.jupyter.widget-view+json": {
       "model_id": "",
       "version_major": 2,
       "version_minor": 0
      },
      "text/plain": [
       "FloatProgress(value=0.0, bar_style='info', description='Progress:', layout=Layout(height='25px', width='50%'),…"
      ]
     },
     "metadata": {},
     "output_type": "display_data"
    }
   ],
   "source": [
    "# Convert the given document into a vector of word counts\n",
    "def document_vector(document):\n",
    "    id = document[1]\n",
    "    counts = defaultdict(int)\n",
    "    for token in document[0]:\n",
    "        if token in vocabulary:\n",
    "            token_id = vocabulary[token]\n",
    "            counts[token_id] += 1\n",
    "    counts = sorted(counts.items())\n",
    "    keys = [x[0] for x in counts]\n",
    "    values = [x[1] for x in counts]\n",
    "    return (id, Vectors.sparse(len(vocabulary), keys, values))\n",
    "\n",
    "# Process all of the documents into word vectors using the \n",
    "# `document_vector` function defined previously\n",
    "documents = tokens.zipWithIndex().map(document_vector).map(list)"
   ]
  },
  {
   "cell_type": "code",
   "execution_count": 27,
   "id": "1e69f449",
   "metadata": {},
   "outputs": [
    {
     "data": {
      "application/vnd.jupyter.widget-view+json": {
       "model_id": "",
       "version_major": 2,
       "version_minor": 0
      },
      "text/plain": [
       "FloatProgress(value=0.0, bar_style='info', description='Progress:', layout=Layout(height='25px', width='50%'),…"
      ]
     },
     "metadata": {},
     "output_type": "display_data"
    }
   ],
   "source": [
    "# Get an inverted vocabulary, so we can look up the word by it's index value\n",
    "inv_voc = {value: key for (key, value) in vocabulary.items()}"
   ]
  },
  {
   "cell_type": "code",
   "execution_count": 28,
   "id": "d55327c1",
   "metadata": {},
   "outputs": [
    {
     "data": {
      "application/vnd.jupyter.widget-view+json": {
       "model_id": "",
       "version_major": 2,
       "version_minor": 0
      },
      "text/plain": [
       "FloatProgress(value=0.0, bar_style='info', description='Progress:', layout=Layout(height='25px', width='50%'),…"
      ]
     },
     "metadata": {},
     "output_type": "display_data"
    },
    {
     "name": "stdout",
     "output_type": "stream",
     "text": [
      "Topic #1\n",
      "\n",
      "b'like'\t0.013832615758785137\n",
      "\n",
      "b'unit'\t0.01122279260796246\n",
      "\n",
      "b'just'\t0.010866719203352328\n",
      "\n",
      "b'battery'\t0.009727674089980461\n",
      "\n",
      "b'good'\t0.008719155284869443\n",
      "\n",
      "b'great'\t0.007466567936413694\n",
      "\n",
      "b'also'\t0.007188605271700628\n",
      "\n",
      "b'really'\t0.007139989083681824\n",
      "\n",
      "b'easy'\t0.0071309798007279795\n",
      "\n",
      "b'even'\t0.0069180301447734115\n",
      "\n",
      "Topic #2\n",
      "\n",
      "b'case'\t0.04129960425997552\n",
      "\n",
      "b'screen'\t0.02184986788928766\n",
      "\n",
      "b'cover'\t0.01350622662595383\n",
      "\n",
      "b'ipad'\t0.012512423926108608\n",
      "\n",
      "b'kindle'\t0.012184034993807017\n",
      "\n",
      "b'tablet'\t0.011689993968689928\n",
      "\n",
      "b'keyboard'\t0.011502342815185286\n",
      "\n",
      "b'like'\t0.007729298433483138\n",
      "\n",
      "b'back'\t0.0065908061695951325\n",
      "\n",
      "b'feel'\t0.0064481064535695555\n",
      "\n",
      "Topic #3\n",
      "\n",
      "b'remote'\t0.013256270777872567\n",
      "\n",
      "b'batteries'\t0.012015870304933429\n",
      "\n",
      "b'just'\t0.011849003881373596\n",
      "\n",
      "b'device'\t0.010868037598907324\n",
      "\n",
      "b'will'\t0.009209552696079131\n",
      "\n",
      "b'battery'\t0.00867423623302386\n",
      "\n",
      "b'good'\t0.006502043339898024\n",
      "\n",
      "b'like'\t0.006240017490926285\n",
      "\n",
      "b'ipod'\t0.005999394500770744\n",
      "\n",
      "b'volume'\t0.0057411784398774\n",
      "\n",
      "Topic #4\n",
      "\n",
      "b'drive'\t0.02044425997761021\n",
      "\n",
      "b'hard'\t0.02009318618920368\n",
      "\n",
      "b'phone'\t0.015532335744330375\n",
      "\n",
      "b'windows'\t0.007915761623595873\n",
      "\n",
      "b'will'\t0.007607325128511002\n",
      "\n",
      "b'works'\t0.007506342944021458\n",
      "\n",
      "b'card'\t0.007484690074194517\n",
      "\n",
      "b'just'\t0.007161659513506298\n",
      "\n",
      "b'computer'\t0.006984534270431474\n",
      "\n",
      "b'laptop'\t0.006663394540805127\n",
      "\n",
      "Topic #5\n",
      "\n",
      "b'will'\t0.02007201611052839\n",
      "\n",
      "b'light'\t0.016641878294815064\n",
      "\n",
      "b'good'\t0.010997120728742446\n",
      "\n",
      "b'great'\t0.01012593848082909\n",
      "\n",
      "b'just'\t0.00997803803875123\n",
      "\n",
      "b'radio'\t0.009392893586785224\n",
      "\n",
      "b'flash'\t0.008860064631109332\n",
      "\n",
      "b'works'\t0.008406468441063547\n",
      "\n",
      "b'know'\t0.007497505828777214\n",
      "\n",
      "b'time'\t0.007452947276383838\n",
      "\n",
      "Topic #6\n",
      "\n",
      "b'great'\t0.014495959108260782\n",
      "\n",
      "b'just'\t0.013638654509207777\n",
      "\n",
      "b'good'\t0.01112878989872874\n",
      "\n",
      "b'headphones'\t0.01102062356443093\n",
      "\n",
      "b'like'\t0.010783843892991047\n",
      "\n",
      "b'sound'\t0.010238913490766494\n",
      "\n",
      "b'product'\t0.01010986547623661\n",
      "\n",
      "b'bought'\t0.008531541629680797\n",
      "\n",
      "b'price'\t0.008121563716418603\n",
      "\n",
      "b'works'\t0.008060764718982831\n",
      "\n",
      "Topic #7\n",
      "\n",
      "b'sound'\t0.022592424463885655\n",
      "\n",
      "b'speakers'\t0.01234578587123297\n",
      "\n",
      "b'music'\t0.010795201504366981\n",
      "\n",
      "b'cable'\t0.010252816767518248\n",
      "\n",
      "b'good'\t0.010166339942086385\n",
      "\n",
      "b'great'\t0.01000871603695241\n",
      "\n",
      "b'system'\t0.009332921918851898\n",
      "\n",
      "b'player'\t0.008317038986423024\n",
      "\n",
      "b'audio'\t0.0073925438440502035\n",
      "\n",
      "b'quality'\t0.0071507691605386834\n",
      "\n",
      "Topic #8\n",
      "\n",
      "b'great'\t0.023581173131462595\n",
      "\n",
      "b'just'\t0.011164257396972934\n",
      "\n",
      "b'bought'\t0.010754503781017428\n",
      "\n",
      "b'well'\t0.010570078583897302\n",
      "\n",
      "b'like'\t0.010242657723314709\n",
      "\n",
      "b'good'\t0.010033992753637037\n",
      "\n",
      "b'really'\t0.009968119401148114\n",
      "\n",
      "b'will'\t0.009883424381995881\n",
      "\n",
      "b'quality'\t0.008049706923339124\n",
      "\n",
      "b'product'\t0.00782491241947212\n",
      "\n",
      "Topic #9\n",
      "\n",
      "b'mouse'\t0.014964586449073279\n",
      "\n",
      "b'just'\t0.009463595348036204\n",
      "\n",
      "b'like'\t0.009061279598323802\n",
      "\n",
      "b'product'\t0.007832069621800072\n",
      "\n",
      "b'will'\t0.007797861667607566\n",
      "\n",
      "b'great'\t0.0076827430205636356\n",
      "\n",
      "b'work'\t0.006063987988710736\n",
      "\n",
      "b'good'\t0.00576049368599248\n",
      "\n",
      "b'quality'\t0.005258536397310644\n",
      "\n",
      "b'bought'\t0.004736292876412618\n",
      "\n",
      "Topic #10\n",
      "\n",
      "b'camera'\t0.03393855932876586\n",
      "\n",
      "b'lens'\t0.01396242232512914\n",
      "\n",
      "b'also'\t0.013002800852464998\n",
      "\n",
      "b'will'\t0.012473808828959569\n",
      "\n",
      "b'good'\t0.009742135870726214\n",
      "\n",
      "b'great'\t0.009236458250050558\n",
      "\n",
      "b'pictures'\t0.008507202603238204\n",
      "\n",
      "b'take'\t0.0077142937189288415\n",
      "\n",
      "b'small'\t0.007104271447734037\n",
      "\n",
      "b'canon'\t0.006330373558539938"
     ]
    }
   ],
   "source": [
    "lda_model = LDA.train(documents, k=num_topics, maxIterations=max_iterations)\n",
    "topic_indices = lda_model.describeTopics(maxTermsPerTopic=num_words_per_topic)\n",
    "\n",
    "topic_list = []\n",
    "word_list = []\n",
    "\n",
    "# Print topics, showing the top-weighted 10 terms for each topic\n",
    "for i in range(len(topic_indices)):\n",
    "    print(\"Topic #{0}\\n\".format(i + 1))\n",
    "    for j in range(len(topic_indices[i][0])):\n",
    "        print(\"{0}\\t{1}\\n\".format(inv_voc[topic_indices[i][0][j]].encode('utf-8'),\n",
    "                                  topic_indices[i][1][j]))\n",
    "        word_list.append(inv_voc[topic_indices[i][0][j]].encode('utf-8'))\n",
    "    \n",
    "    topic_list.append(word_list)\n",
    "    word_list= []"
   ]
  },
  {
   "cell_type": "code",
   "execution_count": 29,
   "id": "c784a62d",
   "metadata": {
    "scrolled": true
   },
   "outputs": [
    {
     "data": {
      "application/vnd.jupyter.widget-view+json": {
       "model_id": "",
       "version_major": 2,
       "version_minor": 0
      },
      "text/plain": [
       "FloatProgress(value=0.0, bar_style='info', description='Progress:', layout=Layout(height='25px', width='50%'),…"
      ]
     },
     "metadata": {},
     "output_type": "display_data"
    },
    {
     "name": "stdout",
     "output_type": "stream",
     "text": [
      "[['like', 'unit', 'just', 'battery', 'good', 'great', 'also', 'really', 'easy', 'even'], ['case', 'screen', 'cover', 'ipad', 'kindle', 'tablet', 'keyboard', 'like', 'back', 'feel'], ['remote', 'batteries', 'just', 'device', 'will', 'battery', 'good', 'like', 'ipod', 'volume'], ['drive', 'hard', 'phone', 'windows', 'will', 'works', 'card', 'just', 'computer', 'laptop'], ['will', 'light', 'good', 'great', 'just', 'radio', 'flash', 'works', 'know', 'time'], ['great', 'just', 'good', 'headphones', 'like', 'sound', 'product', 'bought', 'price', 'works'], ['sound', 'speakers', 'music', 'cable', 'good', 'great', 'system', 'player', 'audio', 'quality'], ['great', 'just', 'bought', 'well', 'like', 'good', 'really', 'will', 'quality', 'product'], ['mouse', 'just', 'like', 'product', 'will', 'great', 'work', 'good', 'quality', 'bought'], ['camera', 'lens', 'also', 'will', 'good', 'great', 'pictures', 'take', 'small', 'canon']]"
     ]
    }
   ],
   "source": [
    "# convert to string\n",
    "string_topic_list = []\n",
    "string_word_list = []\n",
    "\n",
    "for x in topic_list:\n",
    "    for y in x:\n",
    "        word = y.decode()\n",
    "        string_word_list.append(word)\n",
    "    \n",
    "    string_topic_list.append(string_word_list)\n",
    "    string_word_list=[]\n",
    "\n",
    "string_topic_list"
   ]
  },
  {
   "cell_type": "code",
   "execution_count": 30,
   "id": "9365d7f4",
   "metadata": {},
   "outputs": [
    {
     "data": {
      "application/vnd.jupyter.widget-view+json": {
       "model_id": "",
       "version_major": 2,
       "version_minor": 0
      },
      "text/plain": [
       "FloatProgress(value=0.0, bar_style='info', description='Progress:', layout=Layout(height='25px', width='50%'),…"
      ]
     },
     "metadata": {},
     "output_type": "display_data"
    }
   ],
   "source": [
    "# transform output for QuickSight ingestion\n",
    "from pyspark.sql import Row\n",
    "\n",
    "R = Row(\"0\", \"1\", \"2\", '3', '4', '5', '6', '7', '8', '9')\n",
    "lda_result_df = sc.parallelize([R(*r) for r in zip(*string_topic_list)]).toDF()"
   ]
  },
  {
   "cell_type": "code",
   "execution_count": 37,
   "id": "ebf4a41c",
   "metadata": {},
   "outputs": [
    {
     "data": {
      "application/vnd.jupyter.widget-view+json": {
       "model_id": "",
       "version_major": 2,
       "version_minor": 0
      },
      "text/plain": [
       "FloatProgress(value=0.0, bar_style='info', description='Progress:', layout=Layout(height='25px', width='50%'),…"
      ]
     },
     "metadata": {},
     "output_type": "display_data"
    },
    {
     "name": "stdout",
     "output_type": "stream",
     "text": [
      "+-------+--------+---------+--------+-----+----------+--------+-------+-------+--------+\n",
      "|      0|       1|        2|       3|    4|         5|       6|      7|      8|       9|\n",
      "+-------+--------+---------+--------+-----+----------+--------+-------+-------+--------+\n",
      "|   like|    case|   remote|   drive| will|     great|   sound|  great|  mouse|  camera|\n",
      "|   unit|  screen|batteries|    hard|light|      just|speakers|   just|   just|    lens|\n",
      "|   just|   cover|     just|   phone| good|      good|   music| bought|   like|    also|\n",
      "|battery|    ipad|   device| windows|great|headphones|   cable|   well|product|    will|\n",
      "|   good|  kindle|     will|    will| just|      like|    good|   like|   will|    good|\n",
      "|  great|  tablet|  battery|   works|radio|     sound|   great|   good|  great|   great|\n",
      "|   also|keyboard|     good|    card|flash|   product|  system| really|   work|pictures|\n",
      "| really|    like|     like|    just|works|    bought|  player|   will|   good|    take|\n",
      "|   easy|    back|     ipod|computer| know|     price|   audio|quality|quality|   small|\n",
      "|   even|    feel|   volume|  laptop| time|     works| quality|product| bought|   canon|\n",
      "+-------+--------+---------+--------+-----+----------+--------+-------+-------+--------+"
     ]
    }
   ],
   "source": [
    "lda_result_df.show()"
   ]
  },
  {
   "cell_type": "markdown",
   "id": "41df0778",
   "metadata": {},
   "source": [
    "# Save result to cloud"
   ]
  },
  {
   "cell_type": "code",
   "execution_count": 74,
   "id": "0c27c095",
   "metadata": {},
   "outputs": [
    {
     "data": {
      "application/vnd.jupyter.widget-view+json": {
       "model_id": "",
       "version_major": 2,
       "version_minor": 0
      },
      "text/plain": [
       "FloatProgress(value=0.0, bar_style='info', description='Progress:', layout=Layout(height='25px', width='50%'),…"
      ]
     },
     "metadata": {},
     "output_type": "display_data"
    }
   ],
   "source": [
    "# lda_result_df.write.format(\"csv\").save('s3://bda-project-updated/electronics-result-new/electronics-lda/')"
   ]
  }
 ],
 "metadata": {
  "kernelspec": {
   "display_name": "Sparkmagic (PySpark)",
   "language": "python",
   "name": "pysparkkernel"
  },
  "language_info": {
   "codemirror_mode": {
    "name": "python",
    "version": 3
   },
   "file_extension": ".py",
   "mimetype": "text/x-python",
   "name": "pyspark",
   "pygments_lexer": "python3"
  }
 },
 "nbformat": 4,
 "nbformat_minor": 5
}
