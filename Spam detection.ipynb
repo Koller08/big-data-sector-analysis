{
 "cells": [
  {
   "cell_type": "markdown",
   "id": "1693e246",
   "metadata": {},
   "source": [
    "# Read in Data"
   ]
  },
  {
   "cell_type": "code",
   "execution_count": 3,
   "id": "150f1615",
   "metadata": {
    "scrolled": true
   },
   "outputs": [
    {
     "data": {
      "application/vnd.jupyter.widget-view+json": {
       "model_id": "",
       "version_major": 2,
       "version_minor": 0
      },
      "text/plain": [
       "FloatProgress(value=0.0, bar_style='info', description='Progress:', layout=Layout(height='25px', width='50%'),…"
      ]
     },
     "metadata": {},
     "output_type": "display_data"
    },
    {
     "name": "stdout",
     "output_type": "stream",
     "text": [
      "<pyspark.sql.session.SparkSession object at 0x7f0f84f07510>"
     ]
    }
   ],
   "source": [
    "# start spark\n",
    "spark"
   ]
  },
  {
   "cell_type": "code",
   "execution_count": 4,
   "id": "1448d51a",
   "metadata": {
    "scrolled": true
   },
   "outputs": [
    {
     "data": {
      "application/vnd.jupyter.widget-view+json": {
       "model_id": "",
       "version_major": 2,
       "version_minor": 0
      },
      "text/plain": [
       "FloatProgress(value=0.0, bar_style='info', description='Progress:', layout=Layout(height='25px', width='50%'),…"
      ]
     },
     "metadata": {},
     "output_type": "display_data"
    }
   ],
   "source": [
    "# read in data from S3\n",
    "df = spark.read.json('s3://bda-project-updated/electronics/Electronics.json')\n",
    "#df.printSchema()\n",
    "#df.show(n=3, truncate=False, vertical=True)"
   ]
  },
  {
   "cell_type": "code",
   "execution_count": 5,
   "id": "0301842f",
   "metadata": {
    "scrolled": true
   },
   "outputs": [
    {
     "data": {
      "application/vnd.jupyter.widget-view+json": {
       "model_id": "",
       "version_major": 2,
       "version_minor": 0
      },
      "text/plain": [
       "FloatProgress(value=0.0, bar_style='info', description='Progress:', layout=Layout(height='25px', width='50%'),…"
      ]
     },
     "metadata": {},
     "output_type": "display_data"
    }
   ],
   "source": [
    "from pyspark.sql import Row\n",
    "from pyspark.sql.functions import from_unixtime\n",
    "from pyspark.sql.functions import col, expr, when\n",
    "\n",
    "# Retrieve the columns needed\n",
    "temp = df.rdd.map(lambda x: Row(\n",
    "    prod_id = str(x['_id'][0]),\n",
    "    prod_name = 'prod_'+str(x['_id'][0][:5]),\n",
    "    helpful_0 = x['helpful'][0],\n",
    "    helpful_1 = x['helpful'][1],\n",
    "    overall = x['overall'],\n",
    "    reviewText = str(x['reviewText']),\n",
    "    unixreviewTime = x['unixReviewTime'],\n",
    "    summary = str(x['summary']),\n",
    "    label=x['class']\n",
    "))\n",
    "data = spark.createDataFrame(temp)\n",
    "data = data.withColumn('reviewtime', from_unixtime(data.unixreviewTime))\n",
    "\n",
    "#data.show(n=3, truncate=False, vertical=True)"
   ]
  },
  {
   "cell_type": "code",
   "execution_count": 6,
   "id": "e53cd64d",
   "metadata": {},
   "outputs": [
    {
     "data": {
      "application/vnd.jupyter.widget-view+json": {
       "model_id": "",
       "version_major": 2,
       "version_minor": 0
      },
      "text/plain": [
       "FloatProgress(value=0.0, bar_style='info', description='Progress:', layout=Layout(height='25px', width='50%'),…"
      ]
     },
     "metadata": {},
     "output_type": "display_data"
    }
   ],
   "source": [
    "# drop na if any\n",
    "data = data.dropna()\n",
    "#data.count()"
   ]
  },
  {
   "cell_type": "markdown",
   "id": "5c90f179",
   "metadata": {},
   "source": [
    "# Build the model to identify spam"
   ]
  },
  {
   "cell_type": "code",
   "execution_count": 7,
   "id": "e70989bd",
   "metadata": {},
   "outputs": [
    {
     "data": {
      "application/vnd.jupyter.widget-view+json": {
       "model_id": "",
       "version_major": 2,
       "version_minor": 0
      },
      "text/plain": [
       "FloatProgress(value=0.0, bar_style='info', description='Progress:', layout=Layout(height='25px', width='50%'),…"
      ]
     },
     "metadata": {},
     "output_type": "display_data"
    }
   ],
   "source": [
    "# split training testing data\n",
    "train, test = data.randomSplit([0.7, 0.3])"
   ]
  },
  {
   "cell_type": "code",
   "execution_count": 8,
   "id": "cef8607e",
   "metadata": {},
   "outputs": [
    {
     "data": {
      "application/vnd.jupyter.widget-view+json": {
       "model_id": "",
       "version_major": 2,
       "version_minor": 0
      },
      "text/plain": [
       "FloatProgress(value=0.0, bar_style='info', description='Progress:', layout=Layout(height='25px', width='50%'),…"
      ]
     },
     "metadata": {},
     "output_type": "display_data"
    }
   ],
   "source": [
    "from pyspark.ml.feature import HashingTF, IDF, Tokenizer\n",
    "\n",
    "# build tf-idf results for both review text and summary columns\n",
    "# number of features are adjustable\n",
    "tokenizer_text = Tokenizer(inputCol=\"reviewText\", outputCol=\"words\")\n",
    "hashingTF_text = HashingTF(inputCol=\"words\", outputCol=\"rawFeaturesText\", numFeatures=30)\n",
    "idf_text = IDF(inputCol=\"rawFeaturesText\", outputCol=\"featuresText\")\n",
    "\n",
    "tokenizer_summary = Tokenizer(inputCol=\"summary\", outputCol=\"words_summary\")\n",
    "hashingTF_summary = HashingTF(inputCol=\"words_summary\", outputCol=\"rawFeaturesSummary\", numFeatures=5)\n",
    "idf_summary = IDF(inputCol=\"rawFeaturesSummary\", outputCol=\"featuresSummary\")"
   ]
  },
  {
   "cell_type": "code",
   "execution_count": 9,
   "id": "f533be7b",
   "metadata": {},
   "outputs": [
    {
     "data": {
      "application/vnd.jupyter.widget-view+json": {
       "model_id": "",
       "version_major": 2,
       "version_minor": 0
      },
      "text/plain": [
       "FloatProgress(value=0.0, bar_style='info', description='Progress:', layout=Layout(height='25px', width='50%'),…"
      ]
     },
     "metadata": {},
     "output_type": "display_data"
    }
   ],
   "source": [
    "from pyspark.ml.feature import VectorAssembler\n",
    "\n",
    "# combine all the needed columns into one feature column\n",
    "va = VectorAssembler(inputCols=['helpful_0', 'helpful_1', 'overall', 'featuresText',\"featuresSummary\"],\n",
    "                     outputCol=\"features\")"
   ]
  },
  {
   "cell_type": "code",
   "execution_count": 10,
   "id": "800671fd",
   "metadata": {},
   "outputs": [
    {
     "data": {
      "application/vnd.jupyter.widget-view+json": {
       "model_id": "",
       "version_major": 2,
       "version_minor": 0
      },
      "text/plain": [
       "FloatProgress(value=0.0, bar_style='info', description='Progress:', layout=Layout(height='25px', width='50%'),…"
      ]
     },
     "metadata": {},
     "output_type": "display_data"
    }
   ],
   "source": [
    "from pyspark.ml.classification import GBTClassifier\n",
    "\n",
    "# build GBT classifier with default parameters\n",
    "gbt = GBTClassifier()"
   ]
  },
  {
   "cell_type": "code",
   "execution_count": 11,
   "id": "daefc83f",
   "metadata": {},
   "outputs": [
    {
     "data": {
      "application/vnd.jupyter.widget-view+json": {
       "model_id": "",
       "version_major": 2,
       "version_minor": 0
      },
      "text/plain": [
       "FloatProgress(value=0.0, bar_style='info', description='Progress:', layout=Layout(height='25px', width='50%'),…"
      ]
     },
     "metadata": {},
     "output_type": "display_data"
    }
   ],
   "source": [
    "from pyspark.ml import Pipeline\n",
    "\n",
    "# build the pipeline and fit the model\n",
    "pipeline_gbt = Pipeline(stages= [tokenizer_text, hashingTF_text, idf_text, tokenizer_summary, hashingTF_summary, idf_summary,va, gbt])\n",
    "gbt_fitted = pipeline_gbt.fit(train)"
   ]
  },
  {
   "cell_type": "code",
   "execution_count": 12,
   "id": "47df2527",
   "metadata": {},
   "outputs": [
    {
     "data": {
      "application/vnd.jupyter.widget-view+json": {
       "model_id": "",
       "version_major": 2,
       "version_minor": 0
      },
      "text/plain": [
       "FloatProgress(value=0.0, bar_style='info', description='Progress:', layout=Layout(height='25px', width='50%'),…"
      ]
     },
     "metadata": {},
     "output_type": "display_data"
    }
   ],
   "source": [
    "# transform the data using the build model\n",
    "# ie, get the prediction results\n",
    "results_cv = gbt_fitted.transform(data)"
   ]
  },
  {
   "cell_type": "code",
   "execution_count": 13,
   "id": "27e5ad1e",
   "metadata": {},
   "outputs": [
    {
     "data": {
      "application/vnd.jupyter.widget-view+json": {
       "model_id": "",
       "version_major": 2,
       "version_minor": 0
      },
      "text/plain": [
       "FloatProgress(value=0.0, bar_style='info', description='Progress:', layout=Layout(height='25px', width='50%'),…"
      ]
     },
     "metadata": {},
     "output_type": "display_data"
    }
   ],
   "source": [
    "from pyspark.ml.evaluation import MulticlassClassificationEvaluator, BinaryClassificationEvaluator\n",
    "\n",
    "def get_performance(pred_col, label_col, df):\n",
    "    roc = BinaryClassificationEvaluator(rawPredictionCol=pred_col, labelCol=label_col, metricName='areaUnderROC').evaluate(df)\n",
    "    f1 = MulticlassClassificationEvaluator(predictionCol=pred_col, labelCol=label_col, metricName='f1').evaluate(df)\n",
    "    accuracy = MulticlassClassificationEvaluator(predictionCol=pred_col, labelCol=label_col, metricName='accuracy').evaluate(df)\n",
    "    performance = [roc, f1, accuracy]\n",
    "    return \"ROC: {0}, F1: {1}, Accuracy: {2}\".format(roc, f1, accuracy)"
   ]
  },
  {
   "cell_type": "code",
   "execution_count": 14,
   "id": "0a061523",
   "metadata": {},
   "outputs": [
    {
     "data": {
      "application/vnd.jupyter.widget-view+json": {
       "model_id": "",
       "version_major": 2,
       "version_minor": 0
      },
      "text/plain": [
       "FloatProgress(value=0.0, bar_style='info', description='Progress:', layout=Layout(height='25px', width='50%'),…"
      ]
     },
     "metadata": {},
     "output_type": "display_data"
    },
    {
     "name": "stdout",
     "output_type": "stream",
     "text": [
      "'ROC: 1.0, F1: 1.0, Accuracy: 1.0'"
     ]
    }
   ],
   "source": [
    "get_performance(pred_col = 'prediction', label_col = 'label', df = results_cv)"
   ]
  },
  {
   "cell_type": "code",
   "execution_count": 15,
   "id": "89564f12",
   "metadata": {},
   "outputs": [
    {
     "data": {
      "application/vnd.jupyter.widget-view+json": {
       "model_id": "",
       "version_major": 2,
       "version_minor": 0
      },
      "text/plain": [
       "FloatProgress(value=0.0, bar_style='info', description='Progress:', layout=Layout(height='25px', width='50%'),…"
      ]
     },
     "metadata": {},
     "output_type": "display_data"
    }
   ],
   "source": [
    "final_result = results_cv.select(\"prod_name\", \"overall\", \"reviewText\", \"reviewtime\", \"summary\", \"label\", \"prediction\")\n",
    "final_result = final_result.withColumn('label_new', expr(\"IF(prediction==0, 'Real', 'Fake')\"))"
   ]
  },
  {
   "cell_type": "code",
   "execution_count": null,
   "id": "dda7fe47",
   "metadata": {},
   "outputs": [],
   "source": [
    "# final_result.write.format(\"json\").save('s3://bda-project-updated/electronics-result-new/electronics')"
   ]
  }
 ],
 "metadata": {
  "kernelspec": {
   "display_name": "Sparkmagic (PySpark)",
   "language": "python",
   "name": "pysparkkernel"
  },
  "language_info": {
   "codemirror_mode": {
    "name": "python",
    "version": 3
   },
   "file_extension": ".py",
   "mimetype": "text/x-python",
   "name": "pyspark",
   "pygments_lexer": "python3"
  }
 },
 "nbformat": 4,
 "nbformat_minor": 5
}
