{
 "cells": [
  {
   "cell_type": "markdown",
   "id": "77d1330b",
   "metadata": {},
   "source": [
    "# LDA"
   ]
  },
  {
   "cell_type": "code",
   "execution_count": 22,
   "id": "c1bc93af",
   "metadata": {},
   "outputs": [
    {
     "data": {
      "application/vnd.jupyter.widget-view+json": {
       "model_id": "",
       "version_major": 2,
       "version_minor": 0
      },
      "text/plain": [
       "FloatProgress(value=0.0, bar_style='info', description='Progress:', layout=Layout(height='25px', width='50%'),…"
      ]
     },
     "metadata": {},
     "output_type": "display_data"
    }
   ],
   "source": [
    "from collections import defaultdict\n",
    "from pyspark import SparkContext\n",
    "from pyspark.mllib.linalg import Vector, Vectors\n",
    "from pyspark.mllib.clustering import LDA, LDAModel\n",
    "from pyspark.sql import SQLContext\n",
    "import re\n",
    "\n",
    "num_of_stop_words = 50      # Number of most common words to remove, trying to eliminate stop words\n",
    "num_topics = 10\t            # Number of topics we are looking for\n",
    "num_words_per_topic = 10    # Number of words to display for each topic\n",
    "max_iterations = 35         # Max number of times to iterate before finishing"
   ]
  },
  {
   "cell_type": "code",
   "execution_count": 30,
   "id": "755edfba",
   "metadata": {},
   "outputs": [
    {
     "data": {
      "application/vnd.jupyter.widget-view+json": {
       "model_id": "",
       "version_major": 2,
       "version_minor": 0
      },
      "text/plain": [
       "FloatProgress(value=0.0, bar_style='info', description='Progress:', layout=Layout(height='25px', width='50%'),…"
      ]
     },
     "metadata": {},
     "output_type": "display_data"
    }
   ],
   "source": [
    "readJSON = spark.read.json('s3://bda-project-updated/electronics-result-new/electronics/')\n",
    "data = readJSON.rdd.map(lambda x: x['reviewtext'])\n",
    "\n",
    "# Create list of stop words\n",
    "text = spark.read.text('s3://bda-project-updated/english.txt')\n",
    "stop_words = [row[0] for row in text.select('value').collect()]\n",
    "\n",
    "tokens = data \\\n",
    "    .map( lambda document: document.strip().lower()) \\\n",
    "    .map( lambda document: re.split(\"[\\s;,#]\", document)) \\\n",
    "    .map( lambda word: [x for x in word if x.isalpha()]) \\\n",
    "    .map( lambda word: [x for x in word if len(x) > 3] ) \\\n",
    "    .map( lambda word: [x for x in word if not x in stop_words] )"
   ]
  },
  {
   "cell_type": "code",
   "execution_count": 31,
   "id": "772f0704",
   "metadata": {},
   "outputs": [
    {
     "data": {
      "application/vnd.jupyter.widget-view+json": {
       "model_id": "",
       "version_major": 2,
       "version_minor": 0
      },
      "text/plain": [
       "FloatProgress(value=0.0, bar_style='info', description='Progress:', layout=Layout(height='25px', width='50%'),…"
      ]
     },
     "metadata": {},
     "output_type": "display_data"
    }
   ],
   "source": [
    "# Get our vocabulary\n",
    "# 1. Flat map the tokens -> Put all the words in one giant list instead of a list per document\n",
    "# 2. Map each word to a tuple containing the word, and the number 1, signifying a count of 1 for that word\n",
    "# 3. Reduce the tuples by key, i.e.: Merge all the tuples together by the word, summing up the counts\n",
    "# 4. Reverse the tuple so that the count is first...\n",
    "# 5. ...which will allow us to sort by the word count\n",
    "\n",
    "termCounts = tokens \\\n",
    "    .flatMap(lambda document: document) \\\n",
    "    .map(lambda word: (word, 1)) \\\n",
    "    .reduceByKey( lambda x,y: x + y) \\\n",
    "    .map(lambda tuple: (tuple[1], tuple[0])) \\\n",
    "    .sortByKey(False)"
   ]
  },
  {
   "cell_type": "code",
   "execution_count": 32,
   "id": "4e57321d",
   "metadata": {},
   "outputs": [
    {
     "data": {
      "application/vnd.jupyter.widget-view+json": {
       "model_id": "",
       "version_major": 2,
       "version_minor": 0
      },
      "text/plain": [
       "FloatProgress(value=0.0, bar_style='info', description='Progress:', layout=Layout(height='25px', width='50%'),…"
      ]
     },
     "metadata": {},
     "output_type": "display_data"
    }
   ],
   "source": [
    "# Identify a threshold to remove the top words, in an effort to remove stop words\n",
    "threshold_value = termCounts.take(num_of_stop_words)[num_of_stop_words - 1][0]\n",
    "\n",
    "# Only keep words with a count less than the threshold identified above, \n",
    "# and then index each one and collect them into a map\n",
    "vocabulary = termCounts \\\n",
    "    .map(lambda x: x[1]) \\\n",
    "    .zipWithIndex() \\\n",
    "    .collectAsMap()"
   ]
  },
  {
   "cell_type": "code",
   "execution_count": 33,
   "id": "12b7c2ce",
   "metadata": {},
   "outputs": [
    {
     "data": {
      "application/vnd.jupyter.widget-view+json": {
       "model_id": "",
       "version_major": 2,
       "version_minor": 0
      },
      "text/plain": [
       "FloatProgress(value=0.0, bar_style='info', description='Progress:', layout=Layout(height='25px', width='50%'),…"
      ]
     },
     "metadata": {},
     "output_type": "display_data"
    }
   ],
   "source": [
    "# Convert the given document into a vector of word counts\n",
    "def document_vector(document):\n",
    "    id = document[1]\n",
    "    counts = defaultdict(int)\n",
    "    for token in document[0]:\n",
    "        if token in vocabulary:\n",
    "            token_id = vocabulary[token]\n",
    "            counts[token_id] += 1\n",
    "    counts = sorted(counts.items())\n",
    "    keys = [x[0] for x in counts]\n",
    "    values = [x[1] for x in counts]\n",
    "    return (id, Vectors.sparse(len(vocabulary), keys, values))\n",
    "\n",
    "# Process all of the documents into word vectors using the \n",
    "# `document_vector` function defined previously\n",
    "documents = tokens.zipWithIndex().map(document_vector).map(list)"
   ]
  },
  {
   "cell_type": "code",
   "execution_count": 34,
   "id": "eb8e4bd2",
   "metadata": {},
   "outputs": [
    {
     "data": {
      "application/vnd.jupyter.widget-view+json": {
       "model_id": "",
       "version_major": 2,
       "version_minor": 0
      },
      "text/plain": [
       "FloatProgress(value=0.0, bar_style='info', description='Progress:', layout=Layout(height='25px', width='50%'),…"
      ]
     },
     "metadata": {},
     "output_type": "display_data"
    }
   ],
   "source": [
    "# Get an inverted vocabulary, so we can look up the word by it's index value\n",
    "inv_voc = {value: key for (key, value) in vocabulary.items()}"
   ]
  },
  {
   "cell_type": "code",
   "execution_count": 36,
   "id": "0d4ffc24",
   "metadata": {},
   "outputs": [
    {
     "data": {
      "application/vnd.jupyter.widget-view+json": {
       "model_id": "",
       "version_major": 2,
       "version_minor": 0
      },
      "text/plain": [
       "FloatProgress(value=0.0, bar_style='info', description='Progress:', layout=Layout(height='25px', width='50%'),…"
      ]
     },
     "metadata": {},
     "output_type": "display_data"
    },
    {
     "name": "stdout",
     "output_type": "stream",
     "text": [
      "Topic #1\n",
      "\n",
      "b'drive'\t0.02499142276430294\n",
      "\n",
      "b'hard'\t0.010542078501038587\n",
      "\n",
      "b'time'\t0.008502292670472802\n",
      "\n",
      "b'unit'\t0.008061507454537166\n",
      "\n",
      "b'device'\t0.007469092608352024\n",
      "\n",
      "b'software'\t0.006988397184021807\n",
      "\n",
      "b'drives'\t0.0063151674370618095\n",
      "\n",
      "b'support'\t0.006085957959205513\n",
      "\n",
      "b'windows'\t0.0058144892238416145\n",
      "\n",
      "b'power'\t0.005754585715728389\n",
      "\n",
      "Topic #2\n",
      "\n",
      "b'screen'\t0.01793049076766526\n",
      "\n",
      "b'keyboard'\t0.01083160084474015\n",
      "\n",
      "b'ipad'\t0.009811850731221764\n",
      "\n",
      "b'product'\t0.009474236785574124\n",
      "\n",
      "b'time'\t0.007837898710240184\n",
      "\n",
      "b'amazon'\t0.007479651958124913\n",
      "\n",
      "b'bought'\t0.007450787673531195\n",
      "\n",
      "b'mouse'\t0.006826974030082504\n",
      "\n",
      "b'cover'\t0.005303458707456901\n",
      "\n",
      "b'return'\t0.005245568220509486\n",
      "\n",
      "Topic #3\n",
      "\n",
      "b'screen'\t0.01116329978845032\n",
      "\n",
      "b'ipad'\t0.009551318388251955\n",
      "\n",
      "b'cover'\t0.009048056577971876\n",
      "\n",
      "b'time'\t0.006074960768553372\n",
      "\n",
      "b'keyboard'\t0.005998472881332877\n",
      "\n",
      "b'bought'\t0.0050184233251603675\n",
      "\n",
      "b'product'\t0.0044218598439526155\n",
      "\n",
      "b'battery'\t0.004322861333363934\n",
      "\n",
      "b'nice'\t0.004293579899552189\n",
      "\n",
      "b'laptop'\t0.00423316187745898\n",
      "\n",
      "Topic #4\n",
      "\n",
      "b'player'\t0.01178646017302767\n",
      "\n",
      "b'unit'\t0.01048674224588941\n",
      "\n",
      "b'time'\t0.008327606498708088\n",
      "\n",
      "b'power'\t0.008256519291556772\n",
      "\n",
      "b'cable'\t0.006959715189827987\n",
      "\n",
      "b'ipod'\t0.006912293055577033\n",
      "\n",
      "b'product'\t0.006573029101918614\n",
      "\n",
      "b'bought'\t0.006187821292564048\n",
      "\n",
      "b'device'\t0.005314621017048049\n",
      "\n",
      "b'play'\t0.0052841737862100785\n",
      "\n",
      "Topic #5\n",
      "\n",
      "b'windows'\t0.014078695691754987\n",
      "\n",
      "b'drive'\t0.012005593968590187\n",
      "\n",
      "b'time'\t0.00907911561721794\n",
      "\n",
      "b'software'\t0.009062164831844428\n",
      "\n",
      "b'device'\t0.008906491429543965\n",
      "\n",
      "b'support'\t0.00860085936228874\n",
      "\n",
      "b'unit'\t0.007823984173116033\n",
      "\n",
      "b'tablet'\t0.006785249890152289\n",
      "\n",
      "b'apps'\t0.005767398261821569\n",
      "\n",
      "b'screen'\t0.005603307876681063\n",
      "\n",
      "Topic #6\n",
      "\n",
      "b'windows'\t0.017674802966405823\n",
      "\n",
      "b'router'\t0.01262847770213424\n",
      "\n",
      "b'laptop'\t0.010711020054672081\n",
      "\n",
      "b'card'\t0.010690463106590622\n",
      "\n",
      "b'support'\t0.008645884276792826\n",
      "\n",
      "b'wireless'\t0.0076635735655586415\n",
      "\n",
      "b'software'\t0.007221592573017749\n",
      "\n",
      "b'product'\t0.006781060597234471\n",
      "\n",
      "b'bought'\t0.006108138511678509\n",
      "\n",
      "b'asus'\t0.005933389875963824\n",
      "\n",
      "Topic #7\n",
      "\n",
      "b'sound'\t0.042478395511098006\n",
      "\n",
      "b'headphones'\t0.021768188040503043\n",
      "\n",
      "b'music'\t0.018113367570540054\n",
      "\n",
      "b'speakers'\t0.016315884649947723\n",
      "\n",
      "b'speaker'\t0.013875910899756955\n",
      "\n",
      "b'volume'\t0.012321053125126016\n",
      "\n",
      "b'bass'\t0.01147402201938523\n",
      "\n",
      "b'quality'\t0.011008501656290224\n",
      "\n",
      "b'audio'\t0.009552036253117019\n",
      "\n",
      "b'noise'\t0.008574428498673337\n",
      "\n",
      "Topic #8\n",
      "\n",
      "b'time'\t0.010744569063704343\n",
      "\n",
      "b'bought'\t0.009490594343443012\n",
      "\n",
      "b'product'\t0.008456035721026132\n",
      "\n",
      "b'amazon'\t0.006753049885787794\n",
      "\n",
      "b'reviews'\t0.005154675729329853\n",
      "\n",
      "b'battery'\t0.005048715657162187\n",
      "\n",
      "b'price'\t0.004920866184803014\n",
      "\n",
      "b'unit'\t0.004914650772613615\n",
      "\n",
      "b'purchased'\t0.004687040044776902\n",
      "\n",
      "b'return'\t0.004630541862080984\n",
      "\n",
      "Topic #9\n",
      "\n",
      "b'time'\t0.009112607129105282\n",
      "\n",
      "b'battery'\t0.007774867717616094\n",
      "\n",
      "b'bought'\t0.007630516080848096\n",
      "\n",
      "b'unit'\t0.007611318065817394\n",
      "\n",
      "b'product'\t0.007506886759087751\n",
      "\n",
      "b'remote'\t0.0069135507852281335\n",
      "\n",
      "b'player'\t0.006899551312986595\n",
      "\n",
      "b'amazon'\t0.006430842727213108\n",
      "\n",
      "b'return'\t0.0043220209761799175\n",
      "\n",
      "b'hdmi'\t0.004128679411249077\n",
      "\n",
      "Topic #10\n",
      "\n",
      "b'camera'\t0.05195675167587101\n",
      "\n",
      "b'lens'\t0.02155559511155481\n",
      "\n",
      "b'quality'\t0.012750233366093607\n",
      "\n",
      "b'pictures'\t0.011787859837019079\n",
      "\n",
      "b'video'\t0.010417036473512206\n",
      "\n",
      "b'canon'\t0.010375013448223343\n",
      "\n",
      "b'light'\t0.009754346108751614\n",
      "\n",
      "b'image'\t0.00970629820584909\n",
      "\n",
      "b'nikon'\t0.00882530856627977\n",
      "\n",
      "b'picture'\t0.008117443993491161"
     ]
    }
   ],
   "source": [
    "lda_model = LDA.train(documents, k=num_topics, maxIterations=max_iterations)\n",
    "topic_indices = lda_model.describeTopics(maxTermsPerTopic=num_words_per_topic)\n",
    "\n",
    "topic_list = []\n",
    "word_list = []\n",
    "\n",
    "# Print topics, showing the top-weighted 10 terms for each topic\n",
    "for i in range(len(topic_indices)):\n",
    "    print(\"Topic #{0}\\n\".format(i + 1))\n",
    "    for j in range(len(topic_indices[i][0])):\n",
    "        print(\"{0}\\t{1}\\n\".format(inv_voc[topic_indices[i][0][j]].encode('utf-8'),\n",
    "                                  topic_indices[i][1][j]))\n",
    "        word_list.append(inv_voc[topic_indices[i][0][j]].encode('utf-8'))\n",
    "    \n",
    "    topic_list.append(word_list)\n",
    "    word_list= []"
   ]
  },
  {
   "cell_type": "code",
   "execution_count": 60,
   "id": "7fb4b999",
   "metadata": {},
   "outputs": [
    {
     "data": {
      "application/vnd.jupyter.widget-view+json": {
       "model_id": "",
       "version_major": 2,
       "version_minor": 0
      },
      "text/plain": [
       "FloatProgress(value=0.0, bar_style='info', description='Progress:', layout=Layout(height='25px', width='50%'),…"
      ]
     },
     "metadata": {},
     "output_type": "display_data"
    },
    {
     "name": "stdout",
     "output_type": "stream",
     "text": [
      "[['drive', 'hard', 'time', 'unit', 'device', 'software', 'drives', 'support', 'windows', 'power'], ['screen', 'keyboard', 'ipad', 'product', 'time', 'amazon', 'bought', 'mouse', 'cover', 'return'], ['screen', 'ipad', 'cover', 'time', 'keyboard', 'bought', 'product', 'battery', 'nice', 'laptop'], ['player', 'unit', 'time', 'power', 'cable', 'ipod', 'product', 'bought', 'device', 'play'], ['windows', 'drive', 'time', 'software', 'device', 'support', 'unit', 'tablet', 'apps', 'screen'], ['windows', 'router', 'laptop', 'card', 'support', 'wireless', 'software', 'product', 'bought', 'asus'], ['sound', 'headphones', 'music', 'speakers', 'speaker', 'volume', 'bass', 'quality', 'audio', 'noise'], ['time', 'bought', 'product', 'amazon', 'reviews', 'battery', 'price', 'unit', 'purchased', 'return'], ['time', 'battery', 'bought', 'unit', 'product', 'remote', 'player', 'amazon', 'return', 'hdmi'], ['camera', 'lens', 'quality', 'pictures', 'video', 'canon', 'light', 'image', 'nikon', 'picture']]"
     ]
    }
   ],
   "source": [
    "# convert to string\n",
    "string_topic_list = []\n",
    "string_word_list = []\n",
    "\n",
    "for x in topic_list:\n",
    "    for y in x:\n",
    "        word = y.decode()\n",
    "        string_word_list.append(word)\n",
    "    \n",
    "    string_topic_list.append(string_word_list)\n",
    "    string_word_list=[]\n",
    "\n",
    "string_topic_list"
   ]
  },
  {
   "cell_type": "code",
   "execution_count": 68,
   "id": "3d6cfa12",
   "metadata": {},
   "outputs": [
    {
     "data": {
      "application/vnd.jupyter.widget-view+json": {
       "model_id": "",
       "version_major": 2,
       "version_minor": 0
      },
      "text/plain": [
       "FloatProgress(value=0.0, bar_style='info', description='Progress:', layout=Layout(height='25px', width='50%'),…"
      ]
     },
     "metadata": {},
     "output_type": "display_data"
    }
   ],
   "source": [
    "from pyspark.sql import Row\n",
    "\n",
    "R = Row(\"0\", \"1\", \"2\", '3', '4', '5', '6', '7', '8', '9')\n",
    "lda_result_df = sc.parallelize([R(*r) for r in zip(*string_topic_list)]).toDF()"
   ]
  },
  {
   "cell_type": "markdown",
   "id": "ec15ad07",
   "metadata": {},
   "source": [
    "# Save result to cloud"
   ]
  },
  {
   "cell_type": "code",
   "execution_count": 74,
   "id": "c40ba221",
   "metadata": {},
   "outputs": [
    {
     "data": {
      "application/vnd.jupyter.widget-view+json": {
       "model_id": "",
       "version_major": 2,
       "version_minor": 0
      },
      "text/plain": [
       "FloatProgress(value=0.0, bar_style='info', description='Progress:', layout=Layout(height='25px', width='50%'),…"
      ]
     },
     "metadata": {},
     "output_type": "display_data"
    }
   ],
   "source": [
    "lda_result_df.write.format(\"csv\").save('s3://bda-project-updated/electronics-result-new/electronics-lda/')"
   ]
  }
 ],
 "metadata": {
  "kernelspec": {
   "display_name": "Sparkmagic (PySpark)",
   "language": "python",
   "name": "pysparkkernel"
  },
  "language_info": {
   "codemirror_mode": {
    "name": "python",
    "version": 3
   },
   "file_extension": ".py",
   "mimetype": "text/x-python",
   "name": "pyspark",
   "pygments_lexer": "python3"
  }
 },
 "nbformat": 4,
 "nbformat_minor": 5
}
